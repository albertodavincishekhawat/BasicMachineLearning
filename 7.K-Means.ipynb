{
 "cells": [
  {
   "cell_type": "code",
   "execution_count": 1,
   "id": "e34f81e2-54ea-46da-a2b6-0878c10161bd",
   "metadata": {},
   "outputs": [],
   "source": [
    "import numpy as np\n",
    "import pandas as pd\n",
    "import matplotlib.pyplot as plt\n",
    "import seaborn as sns\n",
    "\n",
    "import warnings\n",
    "warnings.filterwarnings(\"ignore\")"
   ]
  },
  {
   "cell_type": "code",
   "execution_count": 2,
   "id": "8adb3611-4ed2-4654-968e-2dfd4501e3cf",
   "metadata": {},
   "outputs": [],
   "source": [
    "math = np.random.normal(41, 9, 20)\n",
    "sci = np.random.normal(75, 10, 20)"
   ]
  },
  {
   "cell_type": "code",
   "execution_count": 3,
   "id": "d571b3ad-2183-4a8a-aea4-825a51b6916a",
   "metadata": {},
   "outputs": [],
   "source": [
    "df = pd.DataFrame({\"Math\":math, \"Science\":sci})"
   ]
  },
  {
   "cell_type": "code",
   "execution_count": 4,
   "id": "35c0d04f-8f9f-4fa9-a678-451a9cb179d0",
   "metadata": {
    "scrolled": true
   },
   "outputs": [
    {
     "data": {
      "text/html": [
       "<div>\n",
       "<style scoped>\n",
       "    .dataframe tbody tr th:only-of-type {\n",
       "        vertical-align: middle;\n",
       "    }\n",
       "\n",
       "    .dataframe tbody tr th {\n",
       "        vertical-align: top;\n",
       "    }\n",
       "\n",
       "    .dataframe thead th {\n",
       "        text-align: right;\n",
       "    }\n",
       "</style>\n",
       "<table border=\"1\" class=\"dataframe\">\n",
       "  <thead>\n",
       "    <tr style=\"text-align: right;\">\n",
       "      <th></th>\n",
       "      <th>Math</th>\n",
       "      <th>Science</th>\n",
       "    </tr>\n",
       "  </thead>\n",
       "  <tbody>\n",
       "    <tr>\n",
       "      <th>0</th>\n",
       "      <td>41.788156</td>\n",
       "      <td>83.510810</td>\n",
       "    </tr>\n",
       "    <tr>\n",
       "      <th>1</th>\n",
       "      <td>42.205449</td>\n",
       "      <td>70.959981</td>\n",
       "    </tr>\n",
       "    <tr>\n",
       "      <th>2</th>\n",
       "      <td>33.171063</td>\n",
       "      <td>65.880995</td>\n",
       "    </tr>\n",
       "    <tr>\n",
       "      <th>3</th>\n",
       "      <td>58.362815</td>\n",
       "      <td>52.354903</td>\n",
       "    </tr>\n",
       "    <tr>\n",
       "      <th>4</th>\n",
       "      <td>25.950210</td>\n",
       "      <td>85.700801</td>\n",
       "    </tr>\n",
       "    <tr>\n",
       "      <th>5</th>\n",
       "      <td>28.601382</td>\n",
       "      <td>67.698737</td>\n",
       "    </tr>\n",
       "    <tr>\n",
       "      <th>6</th>\n",
       "      <td>44.464626</td>\n",
       "      <td>66.218381</td>\n",
       "    </tr>\n",
       "    <tr>\n",
       "      <th>7</th>\n",
       "      <td>34.567165</td>\n",
       "      <td>90.589991</td>\n",
       "    </tr>\n",
       "    <tr>\n",
       "      <th>8</th>\n",
       "      <td>41.036401</td>\n",
       "      <td>45.639741</td>\n",
       "    </tr>\n",
       "    <tr>\n",
       "      <th>9</th>\n",
       "      <td>48.776462</td>\n",
       "      <td>65.589867</td>\n",
       "    </tr>\n",
       "    <tr>\n",
       "      <th>10</th>\n",
       "      <td>26.225316</td>\n",
       "      <td>85.736076</td>\n",
       "    </tr>\n",
       "    <tr>\n",
       "      <th>11</th>\n",
       "      <td>47.985012</td>\n",
       "      <td>76.481300</td>\n",
       "    </tr>\n",
       "    <tr>\n",
       "      <th>12</th>\n",
       "      <td>30.338229</td>\n",
       "      <td>73.230157</td>\n",
       "    </tr>\n",
       "    <tr>\n",
       "      <th>13</th>\n",
       "      <td>27.056393</td>\n",
       "      <td>67.257341</td>\n",
       "    </tr>\n",
       "    <tr>\n",
       "      <th>14</th>\n",
       "      <td>45.664591</td>\n",
       "      <td>53.832236</td>\n",
       "    </tr>\n",
       "    <tr>\n",
       "      <th>15</th>\n",
       "      <td>28.295061</td>\n",
       "      <td>84.061148</td>\n",
       "    </tr>\n",
       "    <tr>\n",
       "      <th>16</th>\n",
       "      <td>34.420071</td>\n",
       "      <td>63.725192</td>\n",
       "    </tr>\n",
       "    <tr>\n",
       "      <th>17</th>\n",
       "      <td>48.034208</td>\n",
       "      <td>72.251605</td>\n",
       "    </tr>\n",
       "    <tr>\n",
       "      <th>18</th>\n",
       "      <td>47.683152</td>\n",
       "      <td>77.565455</td>\n",
       "    </tr>\n",
       "    <tr>\n",
       "      <th>19</th>\n",
       "      <td>57.078140</td>\n",
       "      <td>71.535541</td>\n",
       "    </tr>\n",
       "  </tbody>\n",
       "</table>\n",
       "</div>"
      ],
      "text/plain": [
       "         Math    Science\n",
       "0   41.788156  83.510810\n",
       "1   42.205449  70.959981\n",
       "2   33.171063  65.880995\n",
       "3   58.362815  52.354903\n",
       "4   25.950210  85.700801\n",
       "5   28.601382  67.698737\n",
       "6   44.464626  66.218381\n",
       "7   34.567165  90.589991\n",
       "8   41.036401  45.639741\n",
       "9   48.776462  65.589867\n",
       "10  26.225316  85.736076\n",
       "11  47.985012  76.481300\n",
       "12  30.338229  73.230157\n",
       "13  27.056393  67.257341\n",
       "14  45.664591  53.832236\n",
       "15  28.295061  84.061148\n",
       "16  34.420071  63.725192\n",
       "17  48.034208  72.251605\n",
       "18  47.683152  77.565455\n",
       "19  57.078140  71.535541"
      ]
     },
     "execution_count": 4,
     "metadata": {},
     "output_type": "execute_result"
    }
   ],
   "source": [
    "df"
   ]
  },
  {
   "cell_type": "code",
   "execution_count": 5,
   "id": "650bb604-f08a-45b6-a7e0-adb6a7e75ff0",
   "metadata": {},
   "outputs": [
    {
     "data": {
      "image/png": "[encoded data removed]",
      "text/plain": [
       "<Figure size 800x400 with 1 Axes>"
      ]
     },
     "metadata": {},
     "output_type": "display_data"
    }
   ],
   "source": [
    "plt.figure(figsize=(8, 4))\n",
    "plt.scatter(df[\"Math\"], df[\"Science\"])\n",
    "plt.xlabel(\"Math\")\n",
    "plt.ylabel(\"Science\")\n",
    "plt.show()"
   ]
  },
  {
   "cell_type": "code",
   "execution_count": 6,
   "id": "e22bc386-e78a-47cc-a5a1-8c107cb0e2fd",
   "metadata": {},
   "outputs": [],
   "source": [
    "cent1 = np.random.normal(41, 9, 2)\n",
    "cent2 = np.random.normal(75, 10, 2)"
   ]
  },
  {
   "cell_type": "code",
   "execution_count": 7,
   "id": "bb6ee8b2-0d80-4e44-b366-6b38a4345d51",
   "metadata": {},
   "outputs": [
    {
     "data": {
      "text/plain": [
       "(array([20.62823124, 50.56658472]), array([72.44172948, 77.1722742 ]))"
      ]
     },
     "execution_count": 7,
     "metadata": {},
     "output_type": "execute_result"
    }
   ],
   "source": [
    "cent1, cent2"
   ]
  },
  {
   "cell_type": "code",
   "execution_count": 8,
   "id": "f7427cb9-c839-42f4-b537-e4599a1493b5",
   "metadata": {},
   "outputs": [
    {
     "data": {
      "image/png": "[encoded data removed]",
      "text/plain": [
       "<Figure size 800x400 with 1 Axes>"
      ]
     },
     "metadata": {},
     "output_type": "display_data"
    }
   ],
   "source": [
    "plt.figure(figsize=(8, 4))\n",
    "plt.scatter(df[\"Math\"], df[\"Science\"])\n",
    "plt.scatter([cent1[0],cent2[0]], [cent1[1],cent2[1]])\n",
    "plt.xlabel(\"Math\")\n",
    "plt.ylabel(\"Science\")\n",
    "plt.show()"
   ]
  },
  {
   "cell_type": "code",
   "execution_count": 9,
   "id": "182b0f38-243f-4807-8583-9c4af3cef9dc",
   "metadata": {
    "scrolled": true
   },
   "outputs": [
    {
     "data": {
      "text/plain": [
       "0     39.154366\n",
       "1     29.689509\n",
       "2     19.795297\n",
       "3     37.776936\n",
       "4     35.535005\n",
       "5     18.896607\n",
       "6     28.515828\n",
       "7     42.381209\n",
       "8     20.994456\n",
       "9     31.906455\n",
       "10    35.612083\n",
       "11    37.682436\n",
       "12    24.656065\n",
       "13    17.885821\n",
       "14    25.248441\n",
       "15    34.360821\n",
       "16    19.062104\n",
       "17    34.947498\n",
       "18    38.221823\n",
       "19    42.051076\n",
       "dtype: float64"
      ]
     },
     "execution_count": 9,
     "metadata": {},
     "output_type": "execute_result"
    }
   ],
   "source": [
    "## x2 and y2 will be the data of centroids and x1 and y1 will be the data from dataframe\n",
    "dist1 = np.sqrt(np.square(cent1[0]-df[\"Math\"])+np.square(cent1[1]-df[\"Science\"]))\n",
    "dist1"
   ]
  },
  {
   "cell_type": "code",
   "execution_count": 10,
   "id": "7dd1d008-966c-4956-b705-99c257e3d72d",
   "metadata": {
    "scrolled": true
   },
   "outputs": [
    {
     "data": {
      "text/plain": [
       "0     31.302054\n",
       "1     30.867867\n",
       "2     40.861696\n",
       "3     28.532749\n",
       "4     47.267295\n",
       "5     44.852247\n",
       "6     30.045068\n",
       "7     40.181062\n",
       "8     44.503880\n",
       "9     26.347620\n",
       "10    47.003145\n",
       "11    24.466476\n",
       "12    42.287647\n",
       "13    46.455728\n",
       "14    35.521438\n",
       "15    44.680923\n",
       "16    40.329524\n",
       "17    24.898596\n",
       "18    24.761699\n",
       "19    16.364982\n",
       "dtype: float64"
      ]
     },
     "execution_count": 10,
     "metadata": {},
     "output_type": "execute_result"
    }
   ],
   "source": [
    "## x2 and y2 will be the data of centroids and x1 and y1 will be the data from dataframe\n",
    "dist2 = np.sqrt(np.square(cent2[0]-df[\"Math\"])+np.square(cent2[1]-df[\"Science\"]))\n",
    "dist2"
   ]
  },
  {
   "cell_type": "code",
   "execution_count": 11,
   "id": "988aab42-f914-4ba7-a485-b2fa4e6a1a7c",
   "metadata": {},
   "outputs": [],
   "source": [
    "df[\"dist_cent1\"] = dist1\n",
    "df[\"dist_cent2\"] = dist2"
   ]
  },
  {
   "cell_type": "code",
   "execution_count": 12,
   "id": "9fa335a6-3ecc-4f41-af73-25634c30dcbe",
   "metadata": {
    "scrolled": true
   },
   "outputs": [
    {
     "data": {
      "text/html": [
       "<div>\n",
       "<style scoped>\n",
       "    .dataframe tbody tr th:only-of-type {\n",
       "        vertical-align: middle;\n",
       "    }\n",
       "\n",
       "    .dataframe tbody tr th {\n",
       "        vertical-align: top;\n",
       "    }\n",
       "\n",
       "    .dataframe thead th {\n",
       "        text-align: right;\n",
       "    }\n",
       "</style>\n",
       "<table border=\"1\" class=\"dataframe\">\n",
       "  <thead>\n",
       "    <tr style=\"text-align: right;\">\n",
       "      <th></th>\n",
       "      <th>Math</th>\n",
       "      <th>Science</th>\n",
       "      <th>dist_cent1</th>\n",
       "      <th>dist_cent2</th>\n",
       "    </tr>\n",
       "  </thead>\n",
       "  <tbody>\n",
       "    <tr>\n",
       "      <th>0</th>\n",
       "      <td>41.788156</td>\n",
       "      <td>83.510810</td>\n",
       "      <td>39.154366</td>\n",
       "      <td>31.302054</td>\n",
       "    </tr>\n",
       "    <tr>\n",
       "      <th>1</th>\n",
       "      <td>42.205449</td>\n",
       "      <td>70.959981</td>\n",
       "      <td>29.689509</td>\n",
       "      <td>30.867867</td>\n",
       "    </tr>\n",
       "    <tr>\n",
       "      <th>2</th>\n",
       "      <td>33.171063</td>\n",
       "      <td>65.880995</td>\n",
       "      <td>19.795297</td>\n",
       "      <td>40.861696</td>\n",
       "    </tr>\n",
       "    <tr>\n",
       "      <th>3</th>\n",
       "      <td>58.362815</td>\n",
       "      <td>52.354903</td>\n",
       "      <td>37.776936</td>\n",
       "      <td>28.532749</td>\n",
       "    </tr>\n",
       "    <tr>\n",
       "      <th>4</th>\n",
       "      <td>25.950210</td>\n",
       "      <td>85.700801</td>\n",
       "      <td>35.535005</td>\n",
       "      <td>47.267295</td>\n",
       "    </tr>\n",
       "    <tr>\n",
       "      <th>5</th>\n",
       "      <td>28.601382</td>\n",
       "      <td>67.698737</td>\n",
       "      <td>18.896607</td>\n",
       "      <td>44.852247</td>\n",
       "    </tr>\n",
       "    <tr>\n",
       "      <th>6</th>\n",
       "      <td>44.464626</td>\n",
       "      <td>66.218381</td>\n",
       "      <td>28.515828</td>\n",
       "      <td>30.045068</td>\n",
       "    </tr>\n",
       "    <tr>\n",
       "      <th>7</th>\n",
       "      <td>34.567165</td>\n",
       "      <td>90.589991</td>\n",
       "      <td>42.381209</td>\n",
       "      <td>40.181062</td>\n",
       "    </tr>\n",
       "    <tr>\n",
       "      <th>8</th>\n",
       "      <td>41.036401</td>\n",
       "      <td>45.639741</td>\n",
       "      <td>20.994456</td>\n",
       "      <td>44.503880</td>\n",
       "    </tr>\n",
       "    <tr>\n",
       "      <th>9</th>\n",
       "      <td>48.776462</td>\n",
       "      <td>65.589867</td>\n",
       "      <td>31.906455</td>\n",
       "      <td>26.347620</td>\n",
       "    </tr>\n",
       "    <tr>\n",
       "      <th>10</th>\n",
       "      <td>26.225316</td>\n",
       "      <td>85.736076</td>\n",
       "      <td>35.612083</td>\n",
       "      <td>47.003145</td>\n",
       "    </tr>\n",
       "    <tr>\n",
       "      <th>11</th>\n",
       "      <td>47.985012</td>\n",
       "      <td>76.481300</td>\n",
       "      <td>37.682436</td>\n",
       "      <td>24.466476</td>\n",
       "    </tr>\n",
       "    <tr>\n",
       "      <th>12</th>\n",
       "      <td>30.338229</td>\n",
       "      <td>73.230157</td>\n",
       "      <td>24.656065</td>\n",
       "      <td>42.287647</td>\n",
       "    </tr>\n",
       "    <tr>\n",
       "      <th>13</th>\n",
       "      <td>27.056393</td>\n",
       "      <td>67.257341</td>\n",
       "      <td>17.885821</td>\n",
       "      <td>46.455728</td>\n",
       "    </tr>\n",
       "    <tr>\n",
       "      <th>14</th>\n",
       "      <td>45.664591</td>\n",
       "      <td>53.832236</td>\n",
       "      <td>25.248441</td>\n",
       "      <td>35.521438</td>\n",
       "    </tr>\n",
       "    <tr>\n",
       "      <th>15</th>\n",
       "      <td>28.295061</td>\n",
       "      <td>84.061148</td>\n",
       "      <td>34.360821</td>\n",
       "      <td>44.680923</td>\n",
       "    </tr>\n",
       "    <tr>\n",
       "      <th>16</th>\n",
       "      <td>34.420071</td>\n",
       "      <td>63.725192</td>\n",
       "      <td>19.062104</td>\n",
       "      <td>40.329524</td>\n",
       "    </tr>\n",
       "    <tr>\n",
       "      <th>17</th>\n",
       "      <td>48.034208</td>\n",
       "      <td>72.251605</td>\n",
       "      <td>34.947498</td>\n",
       "      <td>24.898596</td>\n",
       "    </tr>\n",
       "    <tr>\n",
       "      <th>18</th>\n",
       "      <td>47.683152</td>\n",
       "      <td>77.565455</td>\n",
       "      <td>38.221823</td>\n",
       "      <td>24.761699</td>\n",
       "    </tr>\n",
       "    <tr>\n",
       "      <th>19</th>\n",
       "      <td>57.078140</td>\n",
       "      <td>71.535541</td>\n",
       "      <td>42.051076</td>\n",
       "      <td>16.364982</td>\n",
       "    </tr>\n",
       "  </tbody>\n",
       "</table>\n",
       "</div>"
      ],
      "text/plain": [
       "         Math    Science  dist_cent1  dist_cent2\n",
       "0   41.788156  83.510810   39.154366   31.302054\n",
       "1   42.205449  70.959981   29.689509   30.867867\n",
       "2   33.171063  65.880995   19.795297   40.861696\n",
       "3   58.362815  52.354903   37.776936   28.532749\n",
       "4   25.950210  85.700801   35.535005   47.267295\n",
       "5   28.601382  67.698737   18.896607   44.852247\n",
       "6   44.464626  66.218381   28.515828   30.045068\n",
       "7   34.567165  90.589991   42.381209   40.181062\n",
       "8   41.036401  45.639741   20.994456   44.503880\n",
       "9   48.776462  65.589867   31.906455   26.347620\n",
       "10  26.225316  85.736076   35.612083   47.003145\n",
       "11  47.985012  76.481300   37.682436   24.466476\n",
       "12  30.338229  73.230157   24.656065   42.287647\n",
       "13  27.056393  67.257341   17.885821   46.455728\n",
       "14  45.664591  53.832236   25.248441   35.521438\n",
       "15  28.295061  84.061148   34.360821   44.680923\n",
       "16  34.420071  63.725192   19.062104   40.329524\n",
       "17  48.034208  72.251605   34.947498   24.898596\n",
       "18  47.683152  77.565455   38.221823   24.761699\n",
       "19  57.078140  71.535541   42.051076   16.364982"
      ]
     },
     "execution_count": 12,
     "metadata": {},
     "output_type": "execute_result"
    }
   ],
   "source": [
    "df"
   ]
  },
  {
   "cell_type": "code",
   "execution_count": 13,
   "id": "a31a98b1-0bc7-4469-9f74-34adcd88ccc0",
   "metadata": {},
   "outputs": [],
   "source": [
    "cluster = [\"cent1\" if x < y else \"cent2\" for x, y in zip(dist1, dist2)]"
   ]
  },
  {
   "cell_type": "code",
   "execution_count": 14,
   "id": "e0439a86-9646-4eb1-8dbe-4ab343eedabc",
   "metadata": {
    "scrolled": true
   },
   "outputs": [
    {
     "data": {
      "text/plain": [
       "['cent2',\n",
       " 'cent1',\n",
       " 'cent1',\n",
       " 'cent2',\n",
       " 'cent1',\n",
       " 'cent1',\n",
       " 'cent1',\n",
       " 'cent2',\n",
       " 'cent1',\n",
       " 'cent2',\n",
       " 'cent1',\n",
       " 'cent2',\n",
       " 'cent1',\n",
       " 'cent1',\n",
       " 'cent1',\n",
       " 'cent1',\n",
       " 'cent1',\n",
       " 'cent2',\n",
       " 'cent2',\n",
       " 'cent2']"
      ]
     },
     "execution_count": 14,
     "metadata": {},
     "output_type": "execute_result"
    }
   ],
   "source": [
    "cluster"
   ]
  },
  {
   "cell_type": "code",
   "execution_count": 15,
   "id": "56ede3db-cd9b-4674-b9ca-4406a7834b28",
   "metadata": {},
   "outputs": [],
   "source": [
    "df[\"Clusters\"] = cluster"
   ]
  },
  {
   "cell_type": "code",
   "execution_count": 16,
   "id": "70475123-aa4b-4c81-9561-3cdc560af5e8",
   "metadata": {
    "scrolled": true
   },
   "outputs": [
    {
     "data": {
      "text/html": [
       "<div>\n",
       "<style scoped>\n",
       "    .dataframe tbody tr th:only-of-type {\n",
       "        vertical-align: middle;\n",
       "    }\n",
       "\n",
       "    .dataframe tbody tr th {\n",
       "        vertical-align: top;\n",
       "    }\n",
       "\n",
       "    .dataframe thead th {\n",
       "        text-align: right;\n",
       "    }\n",
       "</style>\n",
       "<table border=\"1\" class=\"dataframe\">\n",
       "  <thead>\n",
       "    <tr style=\"text-align: right;\">\n",
       "      <th></th>\n",
       "      <th>Math</th>\n",
       "      <th>Science</th>\n",
       "      <th>dist_cent1</th>\n",
       "      <th>dist_cent2</th>\n",
       "      <th>Clusters</th>\n",
       "    </tr>\n",
       "  </thead>\n",
       "  <tbody>\n",
       "    <tr>\n",
       "      <th>0</th>\n",
       "      <td>41.788156</td>\n",
       "      <td>83.510810</td>\n",
       "      <td>39.154366</td>\n",
       "      <td>31.302054</td>\n",
       "      <td>cent2</td>\n",
       "    </tr>\n",
       "    <tr>\n",
       "      <th>1</th>\n",
       "      <td>42.205449</td>\n",
       "      <td>70.959981</td>\n",
       "      <td>29.689509</td>\n",
       "      <td>30.867867</td>\n",
       "      <td>cent1</td>\n",
       "    </tr>\n",
       "    <tr>\n",
       "      <th>2</th>\n",
       "      <td>33.171063</td>\n",
       "      <td>65.880995</td>\n",
       "      <td>19.795297</td>\n",
       "      <td>40.861696</td>\n",
       "      <td>cent1</td>\n",
       "    </tr>\n",
       "    <tr>\n",
       "      <th>3</th>\n",
       "      <td>58.362815</td>\n",
       "      <td>52.354903</td>\n",
       "      <td>37.776936</td>\n",
       "      <td>28.532749</td>\n",
       "      <td>cent2</td>\n",
       "    </tr>\n",
       "    <tr>\n",
       "      <th>4</th>\n",
       "      <td>25.950210</td>\n",
       "      <td>85.700801</td>\n",
       "      <td>35.535005</td>\n",
       "      <td>47.267295</td>\n",
       "      <td>cent1</td>\n",
       "    </tr>\n",
       "    <tr>\n",
       "      <th>5</th>\n",
       "      <td>28.601382</td>\n",
       "      <td>67.698737</td>\n",
       "      <td>18.896607</td>\n",
       "      <td>44.852247</td>\n",
       "      <td>cent1</td>\n",
       "    </tr>\n",
       "    <tr>\n",
       "      <th>6</th>\n",
       "      <td>44.464626</td>\n",
       "      <td>66.218381</td>\n",
       "      <td>28.515828</td>\n",
       "      <td>30.045068</td>\n",
       "      <td>cent1</td>\n",
       "    </tr>\n",
       "    <tr>\n",
       "      <th>7</th>\n",
       "      <td>34.567165</td>\n",
       "      <td>90.589991</td>\n",
       "      <td>42.381209</td>\n",
       "      <td>40.181062</td>\n",
       "      <td>cent2</td>\n",
       "    </tr>\n",
       "    <tr>\n",
       "      <th>8</th>\n",
       "      <td>41.036401</td>\n",
       "      <td>45.639741</td>\n",
       "      <td>20.994456</td>\n",
       "      <td>44.503880</td>\n",
       "      <td>cent1</td>\n",
       "    </tr>\n",
       "    <tr>\n",
       "      <th>9</th>\n",
       "      <td>48.776462</td>\n",
       "      <td>65.589867</td>\n",
       "      <td>31.906455</td>\n",
       "      <td>26.347620</td>\n",
       "      <td>cent2</td>\n",
       "    </tr>\n",
       "    <tr>\n",
       "      <th>10</th>\n",
       "      <td>26.225316</td>\n",
       "      <td>85.736076</td>\n",
       "      <td>35.612083</td>\n",
       "      <td>47.003145</td>\n",
       "      <td>cent1</td>\n",
       "    </tr>\n",
       "    <tr>\n",
       "      <th>11</th>\n",
       "      <td>47.985012</td>\n",
       "      <td>76.481300</td>\n",
       "      <td>37.682436</td>\n",
       "      <td>24.466476</td>\n",
       "      <td>cent2</td>\n",
       "    </tr>\n",
       "    <tr>\n",
       "      <th>12</th>\n",
       "      <td>30.338229</td>\n",
       "      <td>73.230157</td>\n",
       "      <td>24.656065</td>\n",
       "      <td>42.287647</td>\n",
       "      <td>cent1</td>\n",
       "    </tr>\n",
       "    <tr>\n",
       "      <th>13</th>\n",
       "      <td>27.056393</td>\n",
       "      <td>67.257341</td>\n",
       "      <td>17.885821</td>\n",
       "      <td>46.455728</td>\n",
       "      <td>cent1</td>\n",
       "    </tr>\n",
       "    <tr>\n",
       "      <th>14</th>\n",
       "      <td>45.664591</td>\n",
       "      <td>53.832236</td>\n",
       "      <td>25.248441</td>\n",
       "      <td>35.521438</td>\n",
       "      <td>cent1</td>\n",
       "    </tr>\n",
       "    <tr>\n",
       "      <th>15</th>\n",
       "      <td>28.295061</td>\n",
       "      <td>84.061148</td>\n",
       "      <td>34.360821</td>\n",
       "      <td>44.680923</td>\n",
       "      <td>cent1</td>\n",
       "    </tr>\n",
       "    <tr>\n",
       "      <th>16</th>\n",
       "      <td>34.420071</td>\n",
       "      <td>63.725192</td>\n",
       "      <td>19.062104</td>\n",
       "      <td>40.329524</td>\n",
       "      <td>cent1</td>\n",
       "    </tr>\n",
       "    <tr>\n",
       "      <th>17</th>\n",
       "      <td>48.034208</td>\n",
       "      <td>72.251605</td>\n",
       "      <td>34.947498</td>\n",
       "      <td>24.898596</td>\n",
       "      <td>cent2</td>\n",
       "    </tr>\n",
       "    <tr>\n",
       "      <th>18</th>\n",
       "      <td>47.683152</td>\n",
       "      <td>77.565455</td>\n",
       "      <td>38.221823</td>\n",
       "      <td>24.761699</td>\n",
       "      <td>cent2</td>\n",
       "    </tr>\n",
       "    <tr>\n",
       "      <th>19</th>\n",
       "      <td>57.078140</td>\n",
       "      <td>71.535541</td>\n",
       "      <td>42.051076</td>\n",
       "      <td>16.364982</td>\n",
       "      <td>cent2</td>\n",
       "    </tr>\n",
       "  </tbody>\n",
       "</table>\n",
       "</div>"
      ],
      "text/plain": [
       "         Math    Science  dist_cent1  dist_cent2 Clusters\n",
       "0   41.788156  83.510810   39.154366   31.302054    cent2\n",
       "1   42.205449  70.959981   29.689509   30.867867    cent1\n",
       "2   33.171063  65.880995   19.795297   40.861696    cent1\n",
       "3   58.362815  52.354903   37.776936   28.532749    cent2\n",
       "4   25.950210  85.700801   35.535005   47.267295    cent1\n",
       "5   28.601382  67.698737   18.896607   44.852247    cent1\n",
       "6   44.464626  66.218381   28.515828   30.045068    cent1\n",
       "7   34.567165  90.589991   42.381209   40.181062    cent2\n",
       "8   41.036401  45.639741   20.994456   44.503880    cent1\n",
       "9   48.776462  65.589867   31.906455   26.347620    cent2\n",
       "10  26.225316  85.736076   35.612083   47.003145    cent1\n",
       "11  47.985012  76.481300   37.682436   24.466476    cent2\n",
       "12  30.338229  73.230157   24.656065   42.287647    cent1\n",
       "13  27.056393  67.257341   17.885821   46.455728    cent1\n",
       "14  45.664591  53.832236   25.248441   35.521438    cent1\n",
       "15  28.295061  84.061148   34.360821   44.680923    cent1\n",
       "16  34.420071  63.725192   19.062104   40.329524    cent1\n",
       "17  48.034208  72.251605   34.947498   24.898596    cent2\n",
       "18  47.683152  77.565455   38.221823   24.761699    cent2\n",
       "19  57.078140  71.535541   42.051076   16.364982    cent2"
      ]
     },
     "execution_count": 16,
     "metadata": {},
     "output_type": "execute_result"
    }
   ],
   "source": [
    "df"
   ]
  },
  {
   "cell_type": "code",
   "execution_count": 17,
   "id": "f3aa00f9-ce68-4324-9a0d-a265bedc8a5a",
   "metadata": {},
   "outputs": [
    {
     "data": {
      "text/plain": [
       "(Math       33.952399\n",
       " Science    69.161732\n",
       " dtype: float64,\n",
       " Math       48.034389\n",
       " Science    73.734934\n",
       " dtype: float64)"
      ]
     },
     "execution_count": 17,
     "metadata": {},
     "output_type": "execute_result"
    }
   ],
   "source": [
    "cent1 = df[df[\"Clusters\"]==\"cent1\"][[\"Math\",\"Science\"]].mean()\n",
    "cent2 = df[df[\"Clusters\"]==\"cent2\"][[\"Math\",\"Science\"]].mean()\n",
    "\n",
    "cent1, cent2"
   ]
  },
  {
   "cell_type": "code",
   "execution_count": 18,
   "id": "80dcb2bd-0b7b-4d69-a353-00e69b3be086",
   "metadata": {},
   "outputs": [
    {
     "data": {
      "image/png": "[encoded data removed]",
      "text/plain": [
       "<Figure size 800x400 with 1 Axes>"
      ]
     },
     "metadata": {},
     "output_type": "display_data"
    }
   ],
   "source": [
    "plt.figure(figsize=(8, 4))\n",
    "plt.scatter(df[\"Math\"], df[\"Science\"])\n",
    "plt.scatter([cent1[0],cent2[0]], [cent1[1],cent2[1]])\n",
    "plt.xlabel(\"Math\")\n",
    "plt.ylabel(\"Science\")\n",
    "plt.show()"
   ]
  },
  {
   "cell_type": "code",
   "execution_count": 19,
   "id": "4a2b2581-deec-41f6-8784-feeebb882b09",
   "metadata": {},
   "outputs": [
    {
     "data": {
      "text/plain": [
       "(Math       32.302353\n",
       " Science    71.213856\n",
       " dtype: float64,\n",
       " Math       48.486447\n",
       " Science    70.718649\n",
       " dtype: float64)"
      ]
     },
     "execution_count": 19,
     "metadata": {},
     "output_type": "execute_result"
    }
   ],
   "source": [
    "dist1 = np.sqrt(np.square(cent1[0]-df[\"Math\"])+np.square(cent1[1]-df[\"Science\"]))\n",
    "dist2 = np.sqrt(np.square(cent2[0]-df[\"Math\"])+np.square(cent2[1]-df[\"Science\"]))\n",
    "cluster = [\"cent1\" if x < y else \"cent2\" for x, y in zip(dist1, dist2)]\n",
    "df[\"Clusters\"] = cluster\n",
    "cent1 = df[df[\"Clusters\"]==\"cent1\"][[\"Math\",\"Science\"]].mean()\n",
    "cent2 = df[df[\"Clusters\"]==\"cent2\"][[\"Math\",\"Science\"]].mean()\n",
    "\n",
    "cent1, cent2"
   ]
  },
  {
   "cell_type": "code",
   "execution_count": 20,
   "id": "21b05aad-73f0-4219-b937-cedc8643fca7",
   "metadata": {},
   "outputs": [
    {
     "data": {
      "image/png": "[encoded data removed]",
      "text/plain": [
       "<Figure size 800x400 with 1 Axes>"
      ]
     },
     "metadata": {},
     "output_type": "display_data"
    }
   ],
   "source": [
    "plt.figure(figsize=(8, 4))\n",
    "plt.scatter(df[\"Math\"], df[\"Science\"])\n",
    "plt.scatter([cent1[0],cent2[0]], [cent1[1],cent2[1]])\n",
    "plt.xlabel(\"Math\")\n",
    "plt.ylabel(\"Science\")\n",
    "plt.show()"
   ]
  },
  {
   "cell_type": "code",
   "execution_count": 21,
   "id": "dd51918b-d68b-4fcc-a334-3b23175c81aa",
   "metadata": {},
   "outputs": [
    {
     "data": {
      "text/plain": [
       "(Math       29.847210\n",
       " Science    75.986715\n",
       " dtype: float64,\n",
       " Math       47.552637\n",
       " Science    66.903620\n",
       " dtype: float64)"
      ]
     },
     "execution_count": 21,
     "metadata": {},
     "output_type": "execute_result"
    }
   ],
   "source": [
    "dist1 = np.sqrt(np.square(cent1[0]-df[\"Math\"])+np.square(cent1[1]-df[\"Science\"]))\n",
    "dist2 = np.sqrt(np.square(cent2[0]-df[\"Math\"])+np.square(cent2[1]-df[\"Science\"]))\n",
    "cluster = [\"cent1\" if x < y else \"cent2\" for x, y in zip(dist1, dist2)]\n",
    "df[\"Clusters\"] = cluster\n",
    "cent1 = df[df[\"Clusters\"]==\"cent1\"][[\"Math\",\"Science\"]].mean()\n",
    "cent2 = df[df[\"Clusters\"]==\"cent2\"][[\"Math\",\"Science\"]].mean()\n",
    "\n",
    "cent1, cent2"
   ]
  },
  {
   "cell_type": "code",
   "execution_count": 22,
   "id": "1df72d74-43c7-4004-a95b-fe67c26783d8",
   "metadata": {},
   "outputs": [
    {
     "data": {
      "image/png": "[encoded data removed]",
      "text/plain": [
       "<Figure size 800x400 with 1 Axes>"
      ]
     },
     "metadata": {},
     "output_type": "display_data"
    }
   ],
   "source": [
    "plt.figure(figsize=(8, 4))\n",
    "plt.scatter(df[\"Math\"], df[\"Science\"])\n",
    "plt.scatter([cent1[0],cent2[0]], [cent1[1],cent2[1]])\n",
    "plt.xlabel(\"Math\")\n",
    "plt.ylabel(\"Science\")\n",
    "plt.show()"
   ]
  },
  {
   "cell_type": "code",
   "execution_count": 23,
   "id": "6bef19a6-ad7c-4b96-b3cf-005f46ccab5d",
   "metadata": {},
   "outputs": [
    {
     "data": {
      "image/png": "[encoded data removed]",
      "text/plain": [
       "<Figure size 800x400 with 1 Axes>"
      ]
     },
     "metadata": {},
     "output_type": "display_data"
    }
   ],
   "source": [
    "dist1 = np.sqrt(np.square(cent1[0]-df[\"Math\"])+np.square(cent1[1]-df[\"Science\"]))\n",
    "dist2 = np.sqrt(np.square(cent2[0]-df[\"Math\"])+np.square(cent2[1]-df[\"Science\"]))\n",
    "cluster = [\"cent1\" if x < y else \"cent2\" for x, y in zip(dist1, dist2)]\n",
    "df[\"Clusters\"] = cluster\n",
    "cent1 = df[df[\"Clusters\"]==\"cent1\"][[\"Math\",\"Science\"]].mean()\n",
    "cent2 = df[df[\"Clusters\"]==\"cent2\"][[\"Math\",\"Science\"]].mean()\n",
    "plt.figure(figsize=(8, 4))\n",
    "plt.scatter(df[\"Math\"], df[\"Science\"])\n",
    "plt.scatter([cent1[0],cent2[0]], [cent1[1],cent2[1]], label=(cent1, cent2))\n",
    "plt.legend()\n",
    "plt.xlabel(\"Math\")\n",
    "plt.ylabel(\"Science\")\n",
    "plt.show()\n"
   ]
  },
  {
   "cell_type": "code",
   "execution_count": 26,
   "id": "0fd3da53-bcab-4efd-90aa-21349222ad3d",
   "metadata": {},
   "outputs": [
    {
     "data": {
      "image/png": "[encoded data removed]",
      "text/plain": [
       "<Figure size 800x400 with 1 Axes>"
      ]
     },
     "metadata": {},
     "output_type": "display_data"
    }
   ],
   "source": [
    "dist1 = np.sqrt(np.square(cent1[0]-df[\"Math\"])+np.square(cent1[1]-df[\"Science\"]))\n",
    "dist2 = np.sqrt(np.square(cent2[0]-df[\"Math\"])+np.square(cent2[1]-df[\"Science\"]))\n",
    "cluster = [\"cent1\" if x < y else \"cent2\" for x, y in zip(dist1, dist2)]\n",
    "df[\"Clusters\"] = cluster\n",
    "cent1 = df[df[\"Clusters\"]==\"cent1\"][[\"Math\",\"Science\"]].mean()\n",
    "cent2 = df[df[\"Clusters\"]==\"cent2\"][[\"Math\",\"Science\"]].mean()\n",
    "plt.figure(figsize=(8, 4))\n",
    "plt.scatter(df[\"Math\"], df[\"Science\"])\n",
    "plt.scatter([cent1[0],cent2[0]], [cent1[1],cent2[1]], label=np.round((cent1.tolist(), cent2.tolist())))\n",
    "plt.legend()\n",
    "plt.xlabel(\"Math\")\n",
    "plt.ylabel(\"Science\")\n",
    "plt.show()"
   ]
  },
  {
   "cell_type": "code",
   "execution_count": 27,
   "id": "0895eff4-41fc-4a79-a601-9a1705e81957",
   "metadata": {},
   "outputs": [
    {
     "data": {
      "image/png": "[encoded data removed]",
      "text/plain": [
       "<Figure size 800x400 with 1 Axes>"
      ]
     },
     "metadata": {},
     "output_type": "display_data"
    }
   ],
   "source": [
    "dist1 = np.sqrt(np.square(cent1[0]-df[\"Math\"])+np.square(cent1[1]-df[\"Science\"]))\n",
    "dist2 = np.sqrt(np.square(cent2[0]-df[\"Math\"])+np.square(cent2[1]-df[\"Science\"]))\n",
    "cluster = [\"cent1\" if x < y else \"cent2\" for x, y in zip(dist1, dist2)]\n",
    "df[\"Clusters\"] = cluster\n",
    "cent1 = df[df[\"Clusters\"]==\"cent1\"][[\"Math\",\"Science\"]].mean()\n",
    "cent2 = df[df[\"Clusters\"]==\"cent2\"][[\"Math\",\"Science\"]].mean()\n",
    "plt.figure(figsize=(8, 4))\n",
    "plt.scatter(df[\"Math\"], df[\"Science\"])\n",
    "plt.scatter([cent1[0],cent2[0]], [cent1[1],cent2[1]], label=np.round((cent1.tolist(), cent2.tolist())))\n",
    "plt.legend()\n",
    "plt.xlabel(\"Math\")\n",
    "plt.ylabel(\"Science\")\n",
    "plt.show()"
   ]
  },
  {
   "cell_type": "code",
   "execution_count": 28,
   "id": "4fcc1b42-5979-4b3e-92c2-2232260e8b98",
   "metadata": {},
   "outputs": [
    {
     "data": {
      "image/png": "[encoded data removed]",
      "text/plain": [
       "<Figure size 800x400 with 1 Axes>"
      ]
     },
     "metadata": {},
     "output_type": "display_data"
    }
   ],
   "source": [
    "dist1 = np.sqrt(np.square(cent1[0]-df[\"Math\"])+np.square(cent1[1]-df[\"Science\"]))\n",
    "dist2 = np.sqrt(np.square(cent2[0]-df[\"Math\"])+np.square(cent2[1]-df[\"Science\"]))\n",
    "cluster = [\"cent1\" if x < y else \"cent2\" for x, y in zip(dist1, dist2)]\n",
    "df[\"Clusters\"] = cluster\n",
    "cent1 = df[df[\"Clusters\"]==\"cent1\"][[\"Math\",\"Science\"]].mean()\n",
    "cent2 = df[df[\"Clusters\"]==\"cent2\"][[\"Math\",\"Science\"]].mean()\n",
    "plt.figure(figsize=(8, 4))\n",
    "plt.scatter(df[\"Math\"], df[\"Science\"])\n",
    "plt.scatter([cent1[0],cent2[0]], [cent1[1],cent2[1]], label=np.round((cent1.tolist(), cent2.tolist())))\n",
    "plt.legend()\n",
    "plt.xlabel(\"Math\")\n",
    "plt.ylabel(\"Science\")\n",
    "plt.show()"
   ]
  },
  {
   "cell_type": "code",
   "execution_count": 30,
   "id": "e87f28a6-a707-4f09-b93e-09cc7b15b6f9",
   "metadata": {},
   "outputs": [
    {
     "data": {
      "image/png": "[encoded data removed]",
      "text/plain": [
       "<Figure size 800x400 with 1 Axes>"
      ]
     },
     "metadata": {},
     "output_type": "display_data"
    }
   ],
   "source": [
    "plt.figure(figsize=(8, 4))\n",
    "sns.scatterplot(df, x=\"Math\", y=\"Science\", hue=\"Clusters\")\n",
    "plt.scatter([cent1[0],cent2[0]], [cent1[1],cent2[1]], \n",
    "            label=np.round((cent1.tolist(), cent2.tolist())), color=\"black\")\n",
    "plt.legend()\n",
    "plt.xlabel(\"Math\")\n",
    "plt.ylabel(\"Science\")\n",
    "plt.show()"
   ]
  },
  {
   "cell_type": "code",
   "execution_count": null,
   "id": "7e3f13e3-f80f-4ae7-bceb-3530745011d9",
   "metadata": {},
   "outputs": [],
   "source": []
  }
 ],
 "metadata": {
  "kernelspec": {
   "display_name": "Python 3 (ipykernel)",
   "language": "python",
   "name": "python3"
  },
  "language_info": {
   "codemirror_mode": {
    "name": "ipython",
    "version": 3
   },
   "file_extension": ".py",
   "mimetype": "text/x-python",
   "name": "python",
   "nbconvert_exporter": "python",
   "pygments_lexer": "ipython3",
   "version": "3.11.7"
  },
  "widgets": {
   "application/vnd.jupyter.widget-state+json": {
    "state": {},
    "version_major": 2,
    "version_minor": 0
   }
  }
 },
 "nbformat": 4,
 "nbformat_minor": 5
}
