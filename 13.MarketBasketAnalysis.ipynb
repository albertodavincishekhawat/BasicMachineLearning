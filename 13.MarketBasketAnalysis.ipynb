{
 "cells": [
  {
   "cell_type": "code",
   "execution_count": 9,
   "id": "91c4807d-df88-4cbc-9753-f23986e814d1",
   "metadata": {
    "scrolled": true
   },
   "outputs": [
    {
     "name": "stdout",
     "output_type": "stream",
     "text": [
      "Requirement already satisfied: mlxtend in c:\\users\\soft\\appdata\\local\\programs\\python\\python311\\lib\\site-packages (0.23.1)\n",
      "Requirement already satisfied: scipy>=1.2.1 in c:\\users\\soft\\appdata\\local\\programs\\python\\python311\\lib\\site-packages (from mlxtend) (1.12.0)\n",
      "Requirement already satisfied: numpy>=1.16.2 in c:\\users\\soft\\appdata\\local\\programs\\python\\python311\\lib\\site-packages (from mlxtend) (1.26.3)\n",
      "Requirement already satisfied: pandas>=0.24.2 in c:\\users\\soft\\appdata\\local\\programs\\python\\python311\\lib\\site-packages (from mlxtend) (2.2.0)\n",
      "Requirement already satisfied: scikit-learn>=1.0.2 in c:\\users\\soft\\appdata\\local\\programs\\python\\python311\\lib\\site-packages (from mlxtend) (1.4.2)\n",
      "Requirement already satisfied: matplotlib>=3.0.0 in c:\\users\\soft\\appdata\\local\\programs\\python\\python311\\lib\\site-packages (from mlxtend) (3.8.2)\n",
      "Requirement already satisfied: joblib>=0.13.2 in c:\\users\\soft\\appdata\\local\\programs\\python\\python311\\lib\\site-packages (from mlxtend) (1.3.2)\n",
      "Requirement already satisfied: contourpy>=1.0.1 in c:\\users\\soft\\appdata\\local\\programs\\python\\python311\\lib\\site-packages (from matplotlib>=3.0.0->mlxtend) (1.2.0)\n",
      "Requirement already satisfied: cycler>=0.10 in c:\\users\\soft\\appdata\\local\\programs\\python\\python311\\lib\\site-packages (from matplotlib>=3.0.0->mlxtend) (0.12.1)\n",
      "Requirement already satisfied: fonttools>=4.22.0 in c:\\users\\soft\\appdata\\local\\programs\\python\\python311\\lib\\site-packages (from matplotlib>=3.0.0->mlxtend) (4.47.2)\n",
      "Requirement already satisfied: kiwisolver>=1.3.1 in c:\\users\\soft\\appdata\\local\\programs\\python\\python311\\lib\\site-packages (from matplotlib>=3.0.0->mlxtend) (1.4.5)\n",
      "Requirement already satisfied: packaging>=20.0 in c:\\users\\soft\\appdata\\local\\programs\\python\\python311\\lib\\site-packages (from matplotlib>=3.0.0->mlxtend) (23.2)\n",
      "Requirement already satisfied: pillow>=8 in c:\\users\\soft\\appdata\\local\\programs\\python\\python311\\lib\\site-packages (from matplotlib>=3.0.0->mlxtend) (10.2.0)\n",
      "Requirement already satisfied: pyparsing>=2.3.1 in c:\\users\\soft\\appdata\\local\\programs\\python\\python311\\lib\\site-packages (from matplotlib>=3.0.0->mlxtend) (3.1.1)\n",
      "Requirement already satisfied: python-dateutil>=2.7 in c:\\users\\soft\\appdata\\local\\programs\\python\\python311\\lib\\site-packages (from matplotlib>=3.0.0->mlxtend) (2.8.2)\n",
      "Requirement already satisfied: pytz>=2020.1 in c:\\users\\soft\\appdata\\local\\programs\\python\\python311\\lib\\site-packages (from pandas>=0.24.2->mlxtend) (2024.1)\n",
      "Requirement already satisfied: tzdata>=2022.7 in c:\\users\\soft\\appdata\\local\\programs\\python\\python311\\lib\\site-packages (from pandas>=0.24.2->mlxtend) (2023.4)\n",
      "Requirement already satisfied: threadpoolctl>=2.0.0 in c:\\users\\soft\\appdata\\local\\programs\\python\\python311\\lib\\site-packages (from scikit-learn>=1.0.2->mlxtend) (3.2.0)\n",
      "Requirement already satisfied: six>=1.5 in c:\\users\\soft\\appdata\\local\\programs\\python\\python311\\lib\\site-packages (from python-dateutil>=2.7->matplotlib>=3.0.0->mlxtend) (1.16.0)\n",
      "Note: you may need to restart the kernel to use updated packages.\n"
     ]
    },
    {
     "name": "stderr",
     "output_type": "stream",
     "text": [
      "\n",
      "[notice] A new release of pip is available: 24.1 -> 24.2\n",
      "[notice] To update, run: python.exe -m pip install --upgrade pip\n"
     ]
    }
   ],
   "source": [
    "pip install mlxtend"
   ]
  },
  {
   "cell_type": "code",
   "execution_count": 1,
   "id": "81816ffd-3563-4179-b7eb-b9ec06ef1d9b",
   "metadata": {},
   "outputs": [],
   "source": [
    "import numpy as np\n",
    "import pandas as pd\n",
    "\n",
    "from mlxtend.preprocessing import TransactionEncoder\n",
    "from mlxtend.frequent_patterns import apriori, association_rules\n",
    "\n",
    "import warnings\n",
    "warnings.filterwarnings(\"ignore\")"
   ]
  },
  {
   "cell_type": "code",
   "execution_count": 2,
   "id": "7ec4d329-b705-43f0-a1f4-5d11b613b1a4",
   "metadata": {},
   "outputs": [],
   "source": [
    "products = [\"Desktop\", \"Laptop\", \"Mouse\", \"Keyboard\", \"Pendrive\", \"SSD\", \"Printer\", \"Antivirus\"]"
   ]
  },
  {
   "cell_type": "code",
   "execution_count": 3,
   "id": "4c4c96ae-66d8-4562-b65c-68b3e84627ca",
   "metadata": {},
   "outputs": [],
   "source": [
    "transactions = [list(set(np.random.choice(products, 7))) for i in range(10)]"
   ]
  },
  {
   "cell_type": "code",
   "execution_count": 4,
   "id": "923d127e-b0c3-463c-8c43-253fd31261c7",
   "metadata": {
    "scrolled": true
   },
   "outputs": [
    {
     "data": {
      "text/plain": [
       "[['Laptop', 'Pendrive', 'Antivirus', 'Printer', 'Keyboard'],\n",
       " ['SSD', 'Pendrive', 'Mouse', 'Desktop', 'Printer'],\n",
       " ['SSD', 'Laptop', 'Antivirus', 'Printer', 'Keyboard'],\n",
       " ['Laptop', 'Mouse', 'Antivirus', 'Desktop', 'Keyboard'],\n",
       " ['Laptop', 'Pendrive', 'Mouse', 'Printer', 'Keyboard'],\n",
       " ['Laptop', 'Pendrive', 'Mouse', 'Antivirus', 'Keyboard'],\n",
       " ['SSD', 'Laptop', 'Mouse', 'Printer', 'Keyboard'],\n",
       " ['Mouse', 'Printer', 'SSD', 'Pendrive'],\n",
       " ['SSD', 'Pendrive', 'Mouse', 'Desktop', 'Keyboard'],\n",
       " ['SSD', 'Laptop', 'Pendrive', 'Mouse', 'Antivirus', 'Desktop']]"
      ]
     },
     "execution_count": 4,
     "metadata": {},
     "output_type": "execute_result"
    }
   ],
   "source": [
    "transactions"
   ]
  },
  {
   "cell_type": "code",
   "execution_count": 5,
   "id": "ddd574c0-5105-4769-922c-a18d305e37ac",
   "metadata": {},
   "outputs": [],
   "source": [
    "te = TransactionEncoder()"
   ]
  },
  {
   "cell_type": "code",
   "execution_count": 6,
   "id": "76510b62-7fa4-4959-a0b9-fcbf2cf15569",
   "metadata": {},
   "outputs": [],
   "source": [
    "te_arr = te.fit(transactions).transform(transactions)"
   ]
  },
  {
   "cell_type": "code",
   "execution_count": 7,
   "id": "43c209a6-d54c-45b4-9318-10e6c2eb2249",
   "metadata": {},
   "outputs": [],
   "source": [
    "df = pd.DataFrame(te_arr, columns=te.columns_)"
   ]
  },
  {
   "cell_type": "code",
   "execution_count": 8,
   "id": "5890f66b-0819-48f8-80ea-869664ac1f59",
   "metadata": {},
   "outputs": [
    {
     "data": {
      "text/html": [
       "<div>\n",
       "<style scoped>\n",
       "    .dataframe tbody tr th:only-of-type {\n",
       "        vertical-align: middle;\n",
       "    }\n",
       "\n",
       "    .dataframe tbody tr th {\n",
       "        vertical-align: top;\n",
       "    }\n",
       "\n",
       "    .dataframe thead th {\n",
       "        text-align: right;\n",
       "    }\n",
       "</style>\n",
       "<table border=\"1\" class=\"dataframe\">\n",
       "  <thead>\n",
       "    <tr style=\"text-align: right;\">\n",
       "      <th></th>\n",
       "      <th>Antivirus</th>\n",
       "      <th>Desktop</th>\n",
       "      <th>Keyboard</th>\n",
       "      <th>Laptop</th>\n",
       "      <th>Mouse</th>\n",
       "      <th>Pendrive</th>\n",
       "      <th>Printer</th>\n",
       "      <th>SSD</th>\n",
       "    </tr>\n",
       "  </thead>\n",
       "  <tbody>\n",
       "    <tr>\n",
       "      <th>0</th>\n",
       "      <td>True</td>\n",
       "      <td>False</td>\n",
       "      <td>True</td>\n",
       "      <td>True</td>\n",
       "      <td>False</td>\n",
       "      <td>True</td>\n",
       "      <td>True</td>\n",
       "      <td>False</td>\n",
       "    </tr>\n",
       "    <tr>\n",
       "      <th>1</th>\n",
       "      <td>False</td>\n",
       "      <td>True</td>\n",
       "      <td>False</td>\n",
       "      <td>False</td>\n",
       "      <td>True</td>\n",
       "      <td>True</td>\n",
       "      <td>True</td>\n",
       "      <td>True</td>\n",
       "    </tr>\n",
       "    <tr>\n",
       "      <th>2</th>\n",
       "      <td>True</td>\n",
       "      <td>False</td>\n",
       "      <td>True</td>\n",
       "      <td>True</td>\n",
       "      <td>False</td>\n",
       "      <td>False</td>\n",
       "      <td>True</td>\n",
       "      <td>True</td>\n",
       "    </tr>\n",
       "    <tr>\n",
       "      <th>3</th>\n",
       "      <td>True</td>\n",
       "      <td>True</td>\n",
       "      <td>True</td>\n",
       "      <td>True</td>\n",
       "      <td>True</td>\n",
       "      <td>False</td>\n",
       "      <td>False</td>\n",
       "      <td>False</td>\n",
       "    </tr>\n",
       "    <tr>\n",
       "      <th>4</th>\n",
       "      <td>False</td>\n",
       "      <td>False</td>\n",
       "      <td>True</td>\n",
       "      <td>True</td>\n",
       "      <td>True</td>\n",
       "      <td>True</td>\n",
       "      <td>True</td>\n",
       "      <td>False</td>\n",
       "    </tr>\n",
       "  </tbody>\n",
       "</table>\n",
       "</div>"
      ],
      "text/plain": [
       "   Antivirus  Desktop  Keyboard  Laptop  Mouse  Pendrive  Printer    SSD\n",
       "0       True    False      True    True  False      True     True  False\n",
       "1      False     True     False   False   True      True     True   True\n",
       "2       True    False      True    True  False     False     True   True\n",
       "3       True     True      True    True   True     False    False  False\n",
       "4      False    False      True    True   True      True     True  False"
      ]
     },
     "execution_count": 8,
     "metadata": {},
     "output_type": "execute_result"
    }
   ],
   "source": [
    "df.head()"
   ]
  },
  {
   "cell_type": "code",
   "execution_count": 9,
   "id": "5fa78b3b-6251-405a-802f-e0695373a00e",
   "metadata": {},
   "outputs": [
    {
     "name": "stdout",
     "output_type": "stream",
     "text": [
      "Processing 88 combinations | Sampling itemset size 43\n"
     ]
    }
   ],
   "source": [
    "freq_items = apriori(df, min_support=0.3, use_colnames=True, verbose=1)"
   ]
  },
  {
   "cell_type": "code",
   "execution_count": null,
   "id": "683649cc-8ac4-46a8-b48c-5c4b9d81f253",
   "metadata": {
    "scrolled": true
   },
   "outputs": [],
   "source": [
    "freq_items\n",
    "\n",
    "rules = association_rules(freq_items,  metric='confidence', min_threshold=0.6)"
   ]
  },
  {
   "cell_type": "code",
   "execution_count": 15,
   "id": "65d6c9db-1a3b-47cb-89ab-1969f6b0c1b5",
   "metadata": {},
   "outputs": [
    {
     "data": {
      "text/html": [
       "<div>\n",
       "<style scoped>\n",
       "    .dataframe tbody tr th:only-of-type {\n",
       "        vertical-align: middle;\n",
       "    }\n",
       "\n",
       "    .dataframe tbody tr th {\n",
       "        vertical-align: top;\n",
       "    }\n",
       "\n",
       "    .dataframe thead th {\n",
       "        text-align: right;\n",
       "    }\n",
       "</style>\n",
       "<table border=\"1\" class=\"dataframe\">\n",
       "  <thead>\n",
       "    <tr style=\"text-align: right;\">\n",
       "      <th></th>\n",
       "      <th>antecedents</th>\n",
       "      <th>consequents</th>\n",
       "      <th>antecedent support</th>\n",
       "      <th>consequent support</th>\n",
       "      <th>support</th>\n",
       "      <th>confidence</th>\n",
       "      <th>lift</th>\n",
       "    </tr>\n",
       "  </thead>\n",
       "  <tbody>\n",
       "    <tr>\n",
       "      <th>79</th>\n",
       "      <td>(Desktop)</td>\n",
       "      <td>(Mouse, SSD, Pendrive)</td>\n",
       "      <td>0.4</td>\n",
       "      <td>0.4</td>\n",
       "      <td>0.3</td>\n",
       "      <td>0.750000</td>\n",
       "      <td>1.875000</td>\n",
       "    </tr>\n",
       "    <tr>\n",
       "      <th>73</th>\n",
       "      <td>(SSD, Pendrive, Desktop)</td>\n",
       "      <td>(Mouse)</td>\n",
       "      <td>0.3</td>\n",
       "      <td>0.8</td>\n",
       "      <td>0.3</td>\n",
       "      <td>1.000000</td>\n",
       "      <td>1.250000</td>\n",
       "    </tr>\n",
       "    <tr>\n",
       "      <th>9</th>\n",
       "      <td>(Laptop)</td>\n",
       "      <td>(Keyboard)</td>\n",
       "      <td>0.7</td>\n",
       "      <td>0.7</td>\n",
       "      <td>0.6</td>\n",
       "      <td>0.857143</td>\n",
       "      <td>1.224490</td>\n",
       "    </tr>\n",
       "    <tr>\n",
       "      <th>41</th>\n",
       "      <td>(Mouse, Desktop)</td>\n",
       "      <td>(SSD)</td>\n",
       "      <td>0.4</td>\n",
       "      <td>0.6</td>\n",
       "      <td>0.3</td>\n",
       "      <td>0.750000</td>\n",
       "      <td>1.250000</td>\n",
       "    </tr>\n",
       "    <tr>\n",
       "      <th>5</th>\n",
       "      <td>(Desktop)</td>\n",
       "      <td>(Mouse)</td>\n",
       "      <td>0.4</td>\n",
       "      <td>0.8</td>\n",
       "      <td>0.4</td>\n",
       "      <td>1.000000</td>\n",
       "      <td>1.250000</td>\n",
       "    </tr>\n",
       "    <tr>\n",
       "      <th>70</th>\n",
       "      <td>(Mouse, SSD, Pendrive)</td>\n",
       "      <td>(Desktop)</td>\n",
       "      <td>0.4</td>\n",
       "      <td>0.4</td>\n",
       "      <td>0.3</td>\n",
       "      <td>0.750000</td>\n",
       "      <td>1.875000</td>\n",
       "    </tr>\n",
       "    <tr>\n",
       "      <th>77</th>\n",
       "      <td>(SSD, Desktop)</td>\n",
       "      <td>(Mouse, Pendrive)</td>\n",
       "      <td>0.3</td>\n",
       "      <td>0.6</td>\n",
       "      <td>0.3</td>\n",
       "      <td>1.000000</td>\n",
       "      <td>1.666667</td>\n",
       "    </tr>\n",
       "    <tr>\n",
       "      <th>51</th>\n",
       "      <td>(Keyboard, Pendrive)</td>\n",
       "      <td>(Laptop)</td>\n",
       "      <td>0.4</td>\n",
       "      <td>0.7</td>\n",
       "      <td>0.3</td>\n",
       "      <td>0.750000</td>\n",
       "      <td>1.071429</td>\n",
       "    </tr>\n",
       "    <tr>\n",
       "      <th>35</th>\n",
       "      <td>(Antivirus, Pendrive)</td>\n",
       "      <td>(Laptop)</td>\n",
       "      <td>0.3</td>\n",
       "      <td>0.7</td>\n",
       "      <td>0.3</td>\n",
       "      <td>1.000000</td>\n",
       "      <td>1.428571</td>\n",
       "    </tr>\n",
       "    <tr>\n",
       "      <th>40</th>\n",
       "      <td>(Mouse, SSD)</td>\n",
       "      <td>(Desktop)</td>\n",
       "      <td>0.5</td>\n",
       "      <td>0.4</td>\n",
       "      <td>0.3</td>\n",
       "      <td>0.600000</td>\n",
       "      <td>1.500000</td>\n",
       "    </tr>\n",
       "  </tbody>\n",
       "</table>\n",
       "</div>"
      ],
      "text/plain": [
       "                 antecedents             consequents  antecedent support  \\\n",
       "79                 (Desktop)  (Mouse, SSD, Pendrive)                 0.4   \n",
       "73  (SSD, Pendrive, Desktop)                 (Mouse)                 0.3   \n",
       "9                   (Laptop)              (Keyboard)                 0.7   \n",
       "41          (Mouse, Desktop)                   (SSD)                 0.4   \n",
       "5                  (Desktop)                 (Mouse)                 0.4   \n",
       "70    (Mouse, SSD, Pendrive)               (Desktop)                 0.4   \n",
       "77            (SSD, Desktop)       (Mouse, Pendrive)                 0.3   \n",
       "51      (Keyboard, Pendrive)                (Laptop)                 0.4   \n",
       "35     (Antivirus, Pendrive)                (Laptop)                 0.3   \n",
       "40              (Mouse, SSD)               (Desktop)                 0.5   \n",
       "\n",
       "    consequent support  support  confidence      lift  \n",
       "79                 0.4      0.3    0.750000  1.875000  \n",
       "73                 0.8      0.3    1.000000  1.250000  \n",
       "9                  0.7      0.6    0.857143  1.224490  \n",
       "41                 0.6      0.3    0.750000  1.250000  \n",
       "5                  0.8      0.4    1.000000  1.250000  \n",
       "70                 0.4      0.3    0.750000  1.875000  \n",
       "77                 0.6      0.3    1.000000  1.666667  \n",
       "51                 0.7      0.3    0.750000  1.071429  \n",
       "35                 0.7      0.3    1.000000  1.428571  \n",
       "40                 0.4      0.3    0.600000  1.500000  "
      ]
     },
     "execution_count": 15,
     "metadata": {},
     "output_type": "execute_result"
    }
   ],
   "source": [
    "rules[['antecedents', 'consequents', 'antecedent support',\n",
    "       'consequent support', 'support', 'confidence', 'lift']].sample(10)"
   ]
  },
  {
   "cell_type": "code",
   "execution_count": null,
   "id": "dde77919-8647-4e54-8863-1d7ee5d9b0f2",
   "metadata": {},
   "outputs": [],
   "source": []
  }
 ],
 "metadata": {
  "kernelspec": {
   "display_name": "Python 3 (ipykernel)",
   "language": "python",
   "name": "python3"
  },
  "language_info": {
   "codemirror_mode": {
    "name": "ipython",
    "version": 3
   },
   "file_extension": ".py",
   "mimetype": "text/x-python",
   "name": "python",
   "nbconvert_exporter": "python",
   "pygments_lexer": "ipython3",
   "version": "3.11.7"
  },
  "widgets": {
   "application/vnd.jupyter.widget-state+json": {
    "state": {},
    "version_major": 2,
    "version_minor": 0
   }
  }
 },
 "nbformat": 4,
 "nbformat_minor": 5
}
