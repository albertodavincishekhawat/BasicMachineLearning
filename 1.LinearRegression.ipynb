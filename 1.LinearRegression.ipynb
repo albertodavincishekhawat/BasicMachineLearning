{
 "cells": [
  {
   "cell_type": "markdown",
   "metadata": {},
   "source": [
    "![alt](Images/LinearRegression.webp)"
   ]
  },
  {
   "cell_type": "markdown",
   "metadata": {},
   "source": [
    "It's a supeprvised learning algorithm, we do this on labeled data\n",
    "- Data -> Independent variable\n",
    "- Label -> Dependent variable\n",
    "\n",
    "It is always defined by a line hence called Linear Regression\n"
   ]
  },
  {
   "cell_type": "markdown",
   "metadata": {},
   "source": [
    "# What is to be done?\n",
    "If I have data where one variable is dependent on another then find the relationship in them\n",
    "\n",
    "By how many units will dependent variable change if independent variable is changed by certain units. "
   ]
  },
  {
   "cell_type": "markdown",
   "metadata": {},
   "source": [
    "## What does algorithm actually try to do?\n",
    "Linear regression tries to draw a line that is equidistant from all points"
   ]
  },
  {
   "cell_type": "markdown",
   "metadata": {},
   "source": [
    "We try to find coefficient of x and y"
   ]
  },
  {
   "cell_type": "markdown",
   "metadata": {},
   "source": [
    "We assume that :\n",
    "\n",
    "- There is no correlation between rigression line and actual point\n",
    "- there is no inter correlation in independent variables"
   ]
  },
  {
   "cell_type": "markdown",
   "metadata": {},
   "source": [
    "Where it is used?\n",
    "- How much amount should be given as loan to a person\n",
    "- right dilution or ratio of insecticide"
   ]
  },
  {
   "cell_type": "markdown",
   "metadata": {},
   "source": []
  }
 ],
 "metadata": {
  "language_info": {
   "name": "python"
  }
 },
 "nbformat": 4,
 "nbformat_minor": 2
}
