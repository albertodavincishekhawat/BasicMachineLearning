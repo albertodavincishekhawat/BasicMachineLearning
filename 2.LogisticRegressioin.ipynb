{
 "cells": [
  {
   "cell_type": "markdown",
   "metadata": {},
   "source": []
  },
  {
   "cell_type": "markdown",
   "metadata": {},
   "source": [
    "# **Logistic Regression**\n"
   ]
  },
  {
   "cell_type": "markdown",
   "metadata": {},
   "source": []
  },
  {
   "cell_type": "markdown",
   "metadata": {},
   "source": [
    "Comes under **Supervised learning**\n",
    "\n",
    "Helps solve **Classification** -> **Binary classification**\n",
    "\n",
    "Output of classification is **Descrite**"
   ]
  },
  {
   "cell_type": "markdown",
   "metadata": {},
   "source": [
    "It's a supeprvised learning algorithm, we do this on labeled data\n",
    "- Data -> Independent variable\n",
    "- Label -> Dependent variable"
   ]
  },
  {
   "cell_type": "markdown",
   "metadata": {},
   "source": [
    "There are two type:\n",
    "- Univarient (Uniclass)\n",
    "- Multi-variant (Multiclass)"
   ]
  },
  {
   "cell_type": "markdown",
   "metadata": {},
   "source": [
    "Logistic regression is **Solving classification by regression**"
   ]
  },
  {
   "cell_type": "markdown",
   "metadata": {},
   "source": [
    "### Problem statment\n",
    "\n",
    "We have a problem statment where we are given a data \"age\" and \"Insurance\"-whether a person has it or not,<br>\n",
    "we have age of a person and we need to predict if they have insurance or not? "
   ]
  },
  {
   "cell_type": "markdown",
   "metadata": {},
   "source": [
    "## Why cant we solve it with linear regression?"
   ]
  },
  {
   "cell_type": "markdown",
   "metadata": {},
   "source": [
    "### Issue 1\n",
    "Answer to the question is only \"Yes\" or \"No\" which are 1 and 0 respectively and that cant happen when using linear regression <br>as values will go above and below 1 and 0 respectively."
   ]
  },
  {
   "cell_type": "markdown",
   "metadata": {},
   "source": [
    "![alt](Images/outlierregresion.jfif)"
   ]
  },
  {
   "cell_type": "markdown",
   "metadata": {},
   "source": [
    "### Issue 2\n",
    "The angle of linear regression line is very different with and without outliers \n",
    "\n",
    "Outlier affect the regression line very aggressively\n",
    "- Blue line is with outlieres\n",
    "- White line is without outliers"
   ]
  },
  {
   "cell_type": "markdown",
   "metadata": {},
   "source": [
    "![alt](Images/outlier%20in%20logisticReg.jfif)"
   ]
  },
  {
   "cell_type": "markdown",
   "metadata": {},
   "source": [
    "To solve these issues we use logistic regression and try to **convert the straight regresion line in to a S-cureved line**."
   ]
  },
  {
   "cell_type": "markdown",
   "metadata": {},
   "source": [
    "![alt](Images/logisticregressio.jpg)"
   ]
  },
  {
   "cell_type": "markdown",
   "metadata": {},
   "source": [
    "It's done by using Sigmoid function\n",
    "- if **probablity given someone's age is more than 0.5 then it activates** and gives out **1 (True/Yes)**\n",
    "- if **probablity given someone's age is less than 0.5 then it does not activates** and gives out **0(False/No)**"
   ]
  },
  {
   "cell_type": "markdown",
   "metadata": {},
   "source": [
    "![alt](Images/sigmoid.png)"
   ]
  },
  {
   "cell_type": "markdown",
   "metadata": {},
   "source": [
    "here X is mx+c i.e, equation of line\n",
    "\n",
    "![alt](Images/y-mx-c-1625844871.png)"
   ]
  },
  {
   "cell_type": "markdown",
   "metadata": {},
   "source": []
  }
 ],
 "metadata": {
  "language_info": {
   "name": "python"
  }
 },
 "nbformat": 4,
 "nbformat_minor": 2
}
