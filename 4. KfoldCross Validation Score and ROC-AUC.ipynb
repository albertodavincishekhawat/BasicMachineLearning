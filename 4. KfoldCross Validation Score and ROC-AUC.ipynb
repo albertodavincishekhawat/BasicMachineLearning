{
 "cells": [
  {
   "cell_type": "code",
   "execution_count": 2,
   "id": "d976da51-e205-40b6-9f17-fdb1df611c57",
   "metadata": {},
   "outputs": [],
   "source": [
    "import numpy as np\n",
    "import pandas as pd\n",
    "import matplotlib.pyplot as plt\n",
    "import seaborn as sns\n",
    "\n",
    "from sklearn.linear_model import LogisticRegression\n",
    "from sklearn.model_selection import train_test_split, cross_val_score, KFold \n",
    "from sklearn.metrics import accuracy_score, classification_report, confusion_matrix\n",
    "from sklearn.metrics import roc_auc_score, roc_curve\n",
    "from sklearn.datasets import make_classification\n",
    "\n",
    "import warnings\n",
    "warnings.filterwarnings(\"ignore\")"
   ]
  },
  {
   "cell_type": "code",
   "execution_count": 3,
   "id": "4223ffe8-b99e-45cf-977f-32de27c17d89",
   "metadata": {},
   "outputs": [],
   "source": [
    "X, y = make_classification(n_classes=2, n_samples=1000, n_features=10, n_informative=7)"
   ]
  },
  {
   "cell_type": "code",
   "execution_count": 4,
   "id": "df507ed7-ce86-4056-8b97-1a1e68f29bb3",
   "metadata": {},
   "outputs": [],
   "source": [
    "X_tr, X_te, y_tr, y_te = train_test_split(X, y, train_size=0.7, random_state=245)"
   ]
  },
  {
   "cell_type": "code",
   "execution_count": 6,
   "id": "d29fccf4-dbe0-4fa8-8b96-555dabfd519e",
   "metadata": {},
   "outputs": [],
   "source": [
    "model = LogisticRegression()"
   ]
  },
  {
   "cell_type": "code",
   "execution_count": 7,
   "id": "c83a4848-9929-4afb-82e3-bbe1b0d201eb",
   "metadata": {
    "scrolled": true
   },
   "outputs": [
    {
     "data": {
      "text/html": [
       "<style>#sk-container-id-1 {\n",
       "  /* Definition of color scheme common for light and dark mode */\n",
       "  --sklearn-color-text: black;\n",
       "  --sklearn-color-line: gray;\n",
       "  /* Definition of color scheme for unfitted estimators */\n",
       "  --sklearn-color-unfitted-level-0: #fff5e6;\n",
       "  --sklearn-color-unfitted-level-1: #f6e4d2;\n",
       "  --sklearn-color-unfitted-level-2: #ffe0b3;\n",
       "  --sklearn-color-unfitted-level-3: chocolate;\n",
       "  /* Definition of color scheme for fitted estimators */\n",
       "  --sklearn-color-fitted-level-0: #f0f8ff;\n",
       "  --sklearn-color-fitted-level-1: #d4ebff;\n",
       "  --sklearn-color-fitted-level-2: #b3dbfd;\n",
       "  --sklearn-color-fitted-level-3: cornflowerblue;\n",
       "\n",
       "  /* Specific color for light theme */\n",
       "  --sklearn-color-text-on-default-background: var(--sg-text-color, var(--theme-code-foreground, var(--jp-content-font-color1, black)));\n",
       "  --sklearn-color-background: var(--sg-background-color, var(--theme-background, var(--jp-layout-color0, white)));\n",
       "  --sklearn-color-border-box: var(--sg-text-color, var(--theme-code-foreground, var(--jp-content-font-color1, black)));\n",
       "  --sklearn-color-icon: #696969;\n",
       "\n",
       "  @media (prefers-color-scheme: dark) {\n",
       "    /* Redefinition of color scheme for dark theme */\n",
       "    --sklearn-color-text-on-default-background: var(--sg-text-color, var(--theme-code-foreground, var(--jp-content-font-color1, white)));\n",
       "    --sklearn-color-background: var(--sg-background-color, var(--theme-background, var(--jp-layout-color0, #111)));\n",
       "    --sklearn-color-border-box: var(--sg-text-color, var(--theme-code-foreground, var(--jp-content-font-color1, white)));\n",
       "    --sklearn-color-icon: #878787;\n",
       "  }\n",
       "}\n",
       "\n",
       "#sk-container-id-1 {\n",
       "  color: var(--sklearn-color-text);\n",
       "}\n",
       "\n",
       "#sk-container-id-1 pre {\n",
       "  padding: 0;\n",
       "}\n",
       "\n",
       "#sk-container-id-1 input.sk-hidden--visually {\n",
       "  border: 0;\n",
       "  clip: rect(1px 1px 1px 1px);\n",
       "  clip: rect(1px, 1px, 1px, 1px);\n",
       "  height: 1px;\n",
       "  margin: -1px;\n",
       "  overflow: hidden;\n",
       "  padding: 0;\n",
       "  position: absolute;\n",
       "  width: 1px;\n",
       "}\n",
       "\n",
       "#sk-container-id-1 div.sk-dashed-wrapped {\n",
       "  border: 1px dashed var(--sklearn-color-line);\n",
       "  margin: 0 0.4em 0.5em 0.4em;\n",
       "  box-sizing: border-box;\n",
       "  padding-bottom: 0.4em;\n",
       "  background-color: var(--sklearn-color-background);\n",
       "}\n",
       "\n",
       "#sk-container-id-1 div.sk-container {\n",
       "  /* jupyter's `normalize.less` sets `[hidden] { display: none; }`\n",
       "     but bootstrap.min.css set `[hidden] { display: none !important; }`\n",
       "     so we also need the `!important` here to be able to override the\n",
       "     default hidden behavior on the sphinx rendered scikit-learn.org.\n",
       "     See: https://github.com/scikit-learn/scikit-learn/issues/21755 */\n",
       "  display: inline-block !important;\n",
       "  position: relative;\n",
       "}\n",
       "\n",
       "#sk-container-id-1 div.sk-text-repr-fallback {\n",
       "  display: none;\n",
       "}\n",
       "\n",
       "div.sk-parallel-item,\n",
       "div.sk-serial,\n",
       "div.sk-item {\n",
       "  /* draw centered vertical line to link estimators */\n",
       "  background-image: linear-gradient(var(--sklearn-color-text-on-default-background), var(--sklearn-color-text-on-default-background));\n",
       "  background-size: 2px 100%;\n",
       "  background-repeat: no-repeat;\n",
       "  background-position: center center;\n",
       "}\n",
       "\n",
       "/* Parallel-specific style estimator block */\n",
       "\n",
       "#sk-container-id-1 div.sk-parallel-item::after {\n",
       "  content: \"\";\n",
       "  width: 100%;\n",
       "  border-bottom: 2px solid var(--sklearn-color-text-on-default-background);\n",
       "  flex-grow: 1;\n",
       "}\n",
       "\n",
       "#sk-container-id-1 div.sk-parallel {\n",
       "  display: flex;\n",
       "  align-items: stretch;\n",
       "  justify-content: center;\n",
       "  background-color: var(--sklearn-color-background);\n",
       "  position: relative;\n",
       "}\n",
       "\n",
       "#sk-container-id-1 div.sk-parallel-item {\n",
       "  display: flex;\n",
       "  flex-direction: column;\n",
       "}\n",
       "\n",
       "#sk-container-id-1 div.sk-parallel-item:first-child::after {\n",
       "  align-self: flex-end;\n",
       "  width: 50%;\n",
       "}\n",
       "\n",
       "#sk-container-id-1 div.sk-parallel-item:last-child::after {\n",
       "  align-self: flex-start;\n",
       "  width: 50%;\n",
       "}\n",
       "\n",
       "#sk-container-id-1 div.sk-parallel-item:only-child::after {\n",
       "  width: 0;\n",
       "}\n",
       "\n",
       "/* Serial-specific style estimator block */\n",
       "\n",
       "#sk-container-id-1 div.sk-serial {\n",
       "  display: flex;\n",
       "  flex-direction: column;\n",
       "  align-items: center;\n",
       "  background-color: var(--sklearn-color-background);\n",
       "  padding-right: 1em;\n",
       "  padding-left: 1em;\n",
       "}\n",
       "\n",
       "\n",
       "/* Toggleable style: style used for estimator/Pipeline/ColumnTransformer box that is\n",
       "clickable and can be expanded/collapsed.\n",
       "- Pipeline and ColumnTransformer use this feature and define the default style\n",
       "- Estimators will overwrite some part of the style using the `sk-estimator` class\n",
       "*/\n",
       "\n",
       "/* Pipeline and ColumnTransformer style (default) */\n",
       "\n",
       "#sk-container-id-1 div.sk-toggleable {\n",
       "  /* Default theme specific background. It is overwritten whether we have a\n",
       "  specific estimator or a Pipeline/ColumnTransformer */\n",
       "  background-color: var(--sklearn-color-background);\n",
       "}\n",
       "\n",
       "/* Toggleable label */\n",
       "#sk-container-id-1 label.sk-toggleable__label {\n",
       "  cursor: pointer;\n",
       "  display: block;\n",
       "  width: 100%;\n",
       "  margin-bottom: 0;\n",
       "  padding: 0.5em;\n",
       "  box-sizing: border-box;\n",
       "  text-align: center;\n",
       "}\n",
       "\n",
       "#sk-container-id-1 label.sk-toggleable__label-arrow:before {\n",
       "  /* Arrow on the left of the label */\n",
       "  content: \"▸\";\n",
       "  float: left;\n",
       "  margin-right: 0.25em;\n",
       "  color: var(--sklearn-color-icon);\n",
       "}\n",
       "\n",
       "#sk-container-id-1 label.sk-toggleable__label-arrow:hover:before {\n",
       "  color: var(--sklearn-color-text);\n",
       "}\n",
       "\n",
       "/* Toggleable content - dropdown */\n",
       "\n",
       "#sk-container-id-1 div.sk-toggleable__content {\n",
       "  max-height: 0;\n",
       "  max-width: 0;\n",
       "  overflow: hidden;\n",
       "  text-align: left;\n",
       "  /* unfitted */\n",
       "  background-color: var(--sklearn-color-unfitted-level-0);\n",
       "}\n",
       "\n",
       "#sk-container-id-1 div.sk-toggleable__content.fitted {\n",
       "  /* fitted */\n",
       "  background-color: var(--sklearn-color-fitted-level-0);\n",
       "}\n",
       "\n",
       "#sk-container-id-1 div.sk-toggleable__content pre {\n",
       "  margin: 0.2em;\n",
       "  border-radius: 0.25em;\n",
       "  color: var(--sklearn-color-text);\n",
       "  /* unfitted */\n",
       "  background-color: var(--sklearn-color-unfitted-level-0);\n",
       "}\n",
       "\n",
       "#sk-container-id-1 div.sk-toggleable__content.fitted pre {\n",
       "  /* unfitted */\n",
       "  background-color: var(--sklearn-color-fitted-level-0);\n",
       "}\n",
       "\n",
       "#sk-container-id-1 input.sk-toggleable__control:checked~div.sk-toggleable__content {\n",
       "  /* Expand drop-down */\n",
       "  max-height: 200px;\n",
       "  max-width: 100%;\n",
       "  overflow: auto;\n",
       "}\n",
       "\n",
       "#sk-container-id-1 input.sk-toggleable__control:checked~label.sk-toggleable__label-arrow:before {\n",
       "  content: \"▾\";\n",
       "}\n",
       "\n",
       "/* Pipeline/ColumnTransformer-specific style */\n",
       "\n",
       "#sk-container-id-1 div.sk-label input.sk-toggleable__control:checked~label.sk-toggleable__label {\n",
       "  color: var(--sklearn-color-text);\n",
       "  background-color: var(--sklearn-color-unfitted-level-2);\n",
       "}\n",
       "\n",
       "#sk-container-id-1 div.sk-label.fitted input.sk-toggleable__control:checked~label.sk-toggleable__label {\n",
       "  background-color: var(--sklearn-color-fitted-level-2);\n",
       "}\n",
       "\n",
       "/* Estimator-specific style */\n",
       "\n",
       "/* Colorize estimator box */\n",
       "#sk-container-id-1 div.sk-estimator input.sk-toggleable__control:checked~label.sk-toggleable__label {\n",
       "  /* unfitted */\n",
       "  background-color: var(--sklearn-color-unfitted-level-2);\n",
       "}\n",
       "\n",
       "#sk-container-id-1 div.sk-estimator.fitted input.sk-toggleable__control:checked~label.sk-toggleable__label {\n",
       "  /* fitted */\n",
       "  background-color: var(--sklearn-color-fitted-level-2);\n",
       "}\n",
       "\n",
       "#sk-container-id-1 div.sk-label label.sk-toggleable__label,\n",
       "#sk-container-id-1 div.sk-label label {\n",
       "  /* The background is the default theme color */\n",
       "  color: var(--sklearn-color-text-on-default-background);\n",
       "}\n",
       "\n",
       "/* On hover, darken the color of the background */\n",
       "#sk-container-id-1 div.sk-label:hover label.sk-toggleable__label {\n",
       "  color: var(--sklearn-color-text);\n",
       "  background-color: var(--sklearn-color-unfitted-level-2);\n",
       "}\n",
       "\n",
       "/* Label box, darken color on hover, fitted */\n",
       "#sk-container-id-1 div.sk-label.fitted:hover label.sk-toggleable__label.fitted {\n",
       "  color: var(--sklearn-color-text);\n",
       "  background-color: var(--sklearn-color-fitted-level-2);\n",
       "}\n",
       "\n",
       "/* Estimator label */\n",
       "\n",
       "#sk-container-id-1 div.sk-label label {\n",
       "  font-family: monospace;\n",
       "  font-weight: bold;\n",
       "  display: inline-block;\n",
       "  line-height: 1.2em;\n",
       "}\n",
       "\n",
       "#sk-container-id-1 div.sk-label-container {\n",
       "  text-align: center;\n",
       "}\n",
       "\n",
       "/* Estimator-specific */\n",
       "#sk-container-id-1 div.sk-estimator {\n",
       "  font-family: monospace;\n",
       "  border: 1px dotted var(--sklearn-color-border-box);\n",
       "  border-radius: 0.25em;\n",
       "  box-sizing: border-box;\n",
       "  margin-bottom: 0.5em;\n",
       "  /* unfitted */\n",
       "  background-color: var(--sklearn-color-unfitted-level-0);\n",
       "}\n",
       "\n",
       "#sk-container-id-1 div.sk-estimator.fitted {\n",
       "  /* fitted */\n",
       "  background-color: var(--sklearn-color-fitted-level-0);\n",
       "}\n",
       "\n",
       "/* on hover */\n",
       "#sk-container-id-1 div.sk-estimator:hover {\n",
       "  /* unfitted */\n",
       "  background-color: var(--sklearn-color-unfitted-level-2);\n",
       "}\n",
       "\n",
       "#sk-container-id-1 div.sk-estimator.fitted:hover {\n",
       "  /* fitted */\n",
       "  background-color: var(--sklearn-color-fitted-level-2);\n",
       "}\n",
       "\n",
       "/* Specification for estimator info (e.g. \"i\" and \"?\") */\n",
       "\n",
       "/* Common style for \"i\" and \"?\" */\n",
       "\n",
       ".sk-estimator-doc-link,\n",
       "a:link.sk-estimator-doc-link,\n",
       "a:visited.sk-estimator-doc-link {\n",
       "  float: right;\n",
       "  font-size: smaller;\n",
       "  line-height: 1em;\n",
       "  font-family: monospace;\n",
       "  background-color: var(--sklearn-color-background);\n",
       "  border-radius: 1em;\n",
       "  height: 1em;\n",
       "  width: 1em;\n",
       "  text-decoration: none !important;\n",
       "  margin-left: 1ex;\n",
       "  /* unfitted */\n",
       "  border: var(--sklearn-color-unfitted-level-1) 1pt solid;\n",
       "  color: var(--sklearn-color-unfitted-level-1);\n",
       "}\n",
       "\n",
       ".sk-estimator-doc-link.fitted,\n",
       "a:link.sk-estimator-doc-link.fitted,\n",
       "a:visited.sk-estimator-doc-link.fitted {\n",
       "  /* fitted */\n",
       "  border: var(--sklearn-color-fitted-level-1) 1pt solid;\n",
       "  color: var(--sklearn-color-fitted-level-1);\n",
       "}\n",
       "\n",
       "/* On hover */\n",
       "div.sk-estimator:hover .sk-estimator-doc-link:hover,\n",
       ".sk-estimator-doc-link:hover,\n",
       "div.sk-label-container:hover .sk-estimator-doc-link:hover,\n",
       ".sk-estimator-doc-link:hover {\n",
       "  /* unfitted */\n",
       "  background-color: var(--sklearn-color-unfitted-level-3);\n",
       "  color: var(--sklearn-color-background);\n",
       "  text-decoration: none;\n",
       "}\n",
       "\n",
       "div.sk-estimator.fitted:hover .sk-estimator-doc-link.fitted:hover,\n",
       ".sk-estimator-doc-link.fitted:hover,\n",
       "div.sk-label-container:hover .sk-estimator-doc-link.fitted:hover,\n",
       ".sk-estimator-doc-link.fitted:hover {\n",
       "  /* fitted */\n",
       "  background-color: var(--sklearn-color-fitted-level-3);\n",
       "  color: var(--sklearn-color-background);\n",
       "  text-decoration: none;\n",
       "}\n",
       "\n",
       "/* Span, style for the box shown on hovering the info icon */\n",
       ".sk-estimator-doc-link span {\n",
       "  display: none;\n",
       "  z-index: 9999;\n",
       "  position: relative;\n",
       "  font-weight: normal;\n",
       "  right: .2ex;\n",
       "  padding: .5ex;\n",
       "  margin: .5ex;\n",
       "  width: min-content;\n",
       "  min-width: 20ex;\n",
       "  max-width: 50ex;\n",
       "  color: var(--sklearn-color-text);\n",
       "  box-shadow: 2pt 2pt 4pt #999;\n",
       "  /* unfitted */\n",
       "  background: var(--sklearn-color-unfitted-level-0);\n",
       "  border: .5pt solid var(--sklearn-color-unfitted-level-3);\n",
       "}\n",
       "\n",
       ".sk-estimator-doc-link.fitted span {\n",
       "  /* fitted */\n",
       "  background: var(--sklearn-color-fitted-level-0);\n",
       "  border: var(--sklearn-color-fitted-level-3);\n",
       "}\n",
       "\n",
       ".sk-estimator-doc-link:hover span {\n",
       "  display: block;\n",
       "}\n",
       "\n",
       "/* \"?\"-specific style due to the `<a>` HTML tag */\n",
       "\n",
       "#sk-container-id-1 a.estimator_doc_link {\n",
       "  float: right;\n",
       "  font-size: 1rem;\n",
       "  line-height: 1em;\n",
       "  font-family: monospace;\n",
       "  background-color: var(--sklearn-color-background);\n",
       "  border-radius: 1rem;\n",
       "  height: 1rem;\n",
       "  width: 1rem;\n",
       "  text-decoration: none;\n",
       "  /* unfitted */\n",
       "  color: var(--sklearn-color-unfitted-level-1);\n",
       "  border: var(--sklearn-color-unfitted-level-1) 1pt solid;\n",
       "}\n",
       "\n",
       "#sk-container-id-1 a.estimator_doc_link.fitted {\n",
       "  /* fitted */\n",
       "  border: var(--sklearn-color-fitted-level-1) 1pt solid;\n",
       "  color: var(--sklearn-color-fitted-level-1);\n",
       "}\n",
       "\n",
       "/* On hover */\n",
       "#sk-container-id-1 a.estimator_doc_link:hover {\n",
       "  /* unfitted */\n",
       "  background-color: var(--sklearn-color-unfitted-level-3);\n",
       "  color: var(--sklearn-color-background);\n",
       "  text-decoration: none;\n",
       "}\n",
       "\n",
       "#sk-container-id-1 a.estimator_doc_link.fitted:hover {\n",
       "  /* fitted */\n",
       "  background-color: var(--sklearn-color-fitted-level-3);\n",
       "}\n",
       "</style><div id=\"sk-container-id-1\" class=\"sk-top-container\"><div class=\"sk-text-repr-fallback\"><pre>LogisticRegression()</pre><b>In a Jupyter environment, please rerun this cell to show the HTML representation or trust the notebook. <br />On GitHub, the HTML representation is unable to render, please try loading this page with nbviewer.org.</b></div><div class=\"sk-container\" hidden><div class=\"sk-item\"><div class=\"sk-estimator fitted sk-toggleable\"><input class=\"sk-toggleable__control sk-hidden--visually\" id=\"sk-estimator-id-1\" type=\"checkbox\" checked><label for=\"sk-estimator-id-1\" class=\"sk-toggleable__label fitted sk-toggleable__label-arrow fitted\">&nbsp;&nbsp;LogisticRegression<a class=\"sk-estimator-doc-link fitted\" rel=\"noreferrer\" target=\"_blank\" href=\"https://scikit-learn.org/1.4/modules/generated/sklearn.linear_model.LogisticRegression.html\">?<span>Documentation for LogisticRegression</span></a><span class=\"sk-estimator-doc-link fitted\">i<span>Fitted</span></span></label><div class=\"sk-toggleable__content fitted\"><pre>LogisticRegression()</pre></div> </div></div></div></div>"
      ],
      "text/plain": [
       "LogisticRegression()"
      ]
     },
     "execution_count": 7,
     "metadata": {},
     "output_type": "execute_result"
    }
   ],
   "source": [
    "model.fit(X_tr, y_tr)"
   ]
  },
  {
   "cell_type": "code",
   "execution_count": 8,
   "id": "fdb08b29-473c-4297-a2d8-058b0b05e4d0",
   "metadata": {},
   "outputs": [],
   "source": [
    "y_pr = model.predict(X_te)"
   ]
  },
  {
   "cell_type": "code",
   "execution_count": 9,
   "id": "5c952111-384e-4752-a1b3-df760a010903",
   "metadata": {},
   "outputs": [
    {
     "data": {
      "text/plain": [
       "0.6933333333333334"
      ]
     },
     "execution_count": 9,
     "metadata": {},
     "output_type": "execute_result"
    }
   ],
   "source": [
    "accuracy_score(y_te, y_pr)"
   ]
  },
  {
   "cell_type": "code",
   "execution_count": 10,
   "id": "23e4f38d-4d88-4429-a916-ac3329da6726",
   "metadata": {
    "scrolled": true
   },
   "outputs": [
    {
     "name": "stdout",
     "output_type": "stream",
     "text": [
      "              precision    recall  f1-score   support\n",
      "\n",
      "           0       0.71      0.68      0.70       154\n",
      "           1       0.68      0.71      0.69       146\n",
      "\n",
      "    accuracy                           0.69       300\n",
      "   macro avg       0.69      0.69      0.69       300\n",
      "weighted avg       0.69      0.69      0.69       300\n",
      "\n"
     ]
    }
   ],
   "source": [
    "print(classification_report(y_te, y_pr))"
   ]
  },
  {
   "cell_type": "code",
   "execution_count": 11,
   "id": "0df4ccc8-5997-49be-88f3-d2d34d6be7b7",
   "metadata": {
    "scrolled": true
   },
   "outputs": [
    {
     "data": {
      "text/plain": [
       "array([[105,  49],\n",
       "       [ 43, 103]], dtype=int64)"
      ]
     },
     "execution_count": 11,
     "metadata": {},
     "output_type": "execute_result"
    }
   ],
   "source": [
    "confusion_matrix(y_te, y_pr)"
   ]
  },
  {
   "cell_type": "code",
   "execution_count": 12,
   "id": "6af63311-0e21-451c-943a-be22df454a05",
   "metadata": {},
   "outputs": [],
   "source": [
    "y_prob = model.predict_proba(X_te)[:, 1]"
   ]
  },
  {
   "cell_type": "code",
   "execution_count": 13,
   "id": "1c662afc-3470-42ef-9cb3-4fc0ced5a6b0",
   "metadata": {
    "scrolled": true
   },
   "outputs": [
    {
     "data": {
      "text/plain": [
       "array([0.83490739, 0.74255145, 0.35746246, 0.47560284, 0.67460063,\n",
       "       0.45862641, 0.63623708, 0.43914651, 0.66924068, 0.12251359,\n",
       "       0.10889332, 0.79344295, 0.94728529, 0.85896657, 0.60571785,\n",
       "       0.19115754, 0.32763517, 0.45938562, 0.48643272, 0.6320246 ,\n",
       "       0.47648069, 0.4112087 , 0.40356917, 0.23344295, 0.85232286,\n",
       "       0.4855866 , 0.58107905, 0.4631421 , 0.47370131, 0.5210001 ,\n",
       "       0.43500678, 0.33612569, 0.35019161, 0.42303749, 0.3599488 ,\n",
       "       0.70186719, 0.80397933, 0.67298696, 0.41094074, 0.65233642,\n",
       "       0.84743075, 0.4109977 , 0.83400452, 0.10611789, 0.70021724,\n",
       "       0.85867508, 0.40533658, 0.79737246, 0.47476099, 0.83928673,\n",
       "       0.34672443, 0.72626492, 0.09820967, 0.28433349, 0.31285856,\n",
       "       0.21830892, 0.52334393, 0.87132221, 0.81196135, 0.46275161,\n",
       "       0.80746909, 0.32337291, 0.23950073, 0.5423232 , 0.2389893 ,\n",
       "       0.86081365, 0.33241736, 0.885507  , 0.5677484 , 0.86882542,\n",
       "       0.5005354 , 0.47597481, 0.7736834 , 0.65848111, 0.13179014,\n",
       "       0.22517999, 0.43918449, 0.5508679 , 0.50443381, 0.36175256,\n",
       "       0.45716224, 0.39555403, 0.10755363, 0.76762772, 0.17500788,\n",
       "       0.26830647, 0.53459864, 0.44378071, 0.44089936, 0.44804304,\n",
       "       0.41919474, 0.69980905, 0.58461669, 0.59619307, 0.57648784,\n",
       "       0.2006629 , 0.6666275 , 0.40284706, 0.80822595, 0.17806832,\n",
       "       0.44973389, 0.42221379, 0.38397843, 0.43761673, 0.76637822,\n",
       "       0.83469527, 0.83868674, 0.45826765, 0.85551133, 0.52510457,\n",
       "       0.30086953, 0.87955343, 0.75402564, 0.42923343, 0.41625889,\n",
       "       0.0506931 , 0.66477878, 0.47006746, 0.4430722 , 0.26170817,\n",
       "       0.57882824, 0.35769479, 0.77174606, 0.31290208, 0.5979353 ,\n",
       "       0.54439319, 0.60879461, 0.51735964, 0.53438471, 0.3226765 ,\n",
       "       0.89863896, 0.67758265, 0.87523003, 0.40898413, 0.41073304,\n",
       "       0.53052066, 0.38209887, 0.50655023, 0.0790157 , 0.2187363 ,\n",
       "       0.4495343 , 0.53740127, 0.7714207 , 0.70022957, 0.59868235,\n",
       "       0.67330531, 0.90363175, 0.50990492, 0.51011963, 0.1110449 ,\n",
       "       0.21340949, 0.43761502, 0.63885257, 0.83694029, 0.39539615,\n",
       "       0.44053759, 0.30673424, 0.78322672, 0.71565143, 0.35906176,\n",
       "       0.34065564, 0.61025765, 0.14668176, 0.50992376, 0.88447205,\n",
       "       0.45706508, 0.92714543, 0.81409183, 0.73176214, 0.54059185,\n",
       "       0.16360084, 0.66252098, 0.93568085, 0.38861079, 0.45768205,\n",
       "       0.56536862, 0.20584972, 0.47227841, 0.93944723, 0.34892344,\n",
       "       0.47972052, 0.51822075, 0.83577726, 0.74997351, 0.67910954,\n",
       "       0.39845325, 0.71615316, 0.67815144, 0.27519348, 0.49602496,\n",
       "       0.37942944, 0.59038712, 0.63171087, 0.87467997, 0.34279596,\n",
       "       0.30937323, 0.26821166, 0.65365658, 0.7688118 , 0.68559784,\n",
       "       0.54622418, 0.31747004, 0.34886799, 0.88235839, 0.52773039,\n",
       "       0.78149741, 0.5239027 , 0.38415538, 0.9167673 , 0.26944111,\n",
       "       0.4031828 , 0.54664001, 0.48701436, 0.32938491, 0.85756111,\n",
       "       0.28010755, 0.53594008, 0.71069881, 0.14783813, 0.56672478,\n",
       "       0.31038646, 0.47150475, 0.75328239, 0.64595506, 0.67186758,\n",
       "       0.26473359, 0.52703119, 0.11043211, 0.80080234, 0.19041657,\n",
       "       0.91926543, 0.38585568, 0.14399049, 0.47265544, 0.41087035,\n",
       "       0.50377951, 0.53231921, 0.57178895, 0.41784842, 0.39208222,\n",
       "       0.89348248, 0.67662855, 0.81516202, 0.31597798, 0.54356032,\n",
       "       0.44085655, 0.8151597 , 0.69814335, 0.15792999, 0.33995064,\n",
       "       0.46870194, 0.73549765, 0.48860691, 0.83842647, 0.78417099,\n",
       "       0.48426383, 0.24230934, 0.58858427, 0.68951364, 0.1047365 ,\n",
       "       0.87437037, 0.41122548, 0.8201598 , 0.02488509, 0.47324867,\n",
       "       0.3611282 , 0.41576982, 0.82257091, 0.51743757, 0.52168181,\n",
       "       0.39452512, 0.95804223, 0.60276744, 0.76287453, 0.55660391,\n",
       "       0.4754828 , 0.35459771, 0.61427484, 0.66940778, 0.89073332,\n",
       "       0.76436559, 0.61401011, 0.48757136, 0.37675344, 0.32765117,\n",
       "       0.39013434, 0.44492649, 0.7167172 , 0.95110255, 0.70204964,\n",
       "       0.40034509, 0.50149739, 0.67371747, 0.4984691 , 0.09780738,\n",
       "       0.44035913, 0.36972888, 0.77546525, 0.42401746, 0.451496  ])"
      ]
     },
     "execution_count": 13,
     "metadata": {},
     "output_type": "execute_result"
    }
   ],
   "source": [
    "y_prob"
   ]
  },
  {
   "cell_type": "code",
   "execution_count": 14,
   "id": "9bc5e0a2-fabf-40f2-923f-53fab534d24f",
   "metadata": {},
   "outputs": [],
   "source": [
    "fpr, tpr, threshold = roc_curve(y_te, y_prob)"
   ]
  },
  {
   "cell_type": "code",
   "execution_count": 15,
   "id": "b1a5280f-9be1-437c-9ee5-b1eb904638a9",
   "metadata": {
    "scrolled": true
   },
   "outputs": [
    {
     "data": {
      "text/plain": [
       "(array([0.        , 0.        , 0.        , 0.00649351, 0.00649351,\n",
       "        0.01298701, 0.01298701, 0.01948052, 0.01948052, 0.02597403,\n",
       "        0.02597403, 0.03246753, 0.03246753, 0.04545455, 0.04545455,\n",
       "        0.05844156, 0.05844156, 0.06493506, 0.06493506, 0.07142857,\n",
       "        0.07142857, 0.07792208, 0.07792208, 0.08441558, 0.08441558,\n",
       "        0.09090909, 0.09090909, 0.1038961 , 0.1038961 , 0.11038961,\n",
       "        0.11038961, 0.12337662, 0.12337662, 0.14285714, 0.14285714,\n",
       "        0.15584416, 0.15584416, 0.16233766, 0.16233766, 0.16883117,\n",
       "        0.16883117, 0.17532468, 0.17532468, 0.22727273, 0.22727273,\n",
       "        0.27272727, 0.27272727, 0.28571429, 0.28571429, 0.30519481,\n",
       "        0.30519481, 0.31818182, 0.31818182, 0.34415584, 0.34415584,\n",
       "        0.35714286, 0.35714286, 0.37662338, 0.37662338, 0.38311688,\n",
       "        0.38311688, 0.41558442, 0.41558442, 0.42857143, 0.42857143,\n",
       "        0.43506494, 0.43506494, 0.44155844, 0.44155844, 0.5       ,\n",
       "        0.5       , 0.54545455, 0.54545455, 0.61038961, 0.61038961,\n",
       "        0.62337662, 0.62337662, 0.63636364, 0.63636364, 0.65584416,\n",
       "        0.65584416, 0.66233766, 0.66233766, 0.68831169, 0.68831169,\n",
       "        0.70779221, 0.70779221, 0.76623377, 0.76623377, 0.79220779,\n",
       "        0.79220779, 0.7987013 , 0.7987013 , 0.81818182, 0.81818182,\n",
       "        0.83116883, 0.83116883, 0.83766234, 0.83766234, 0.84415584,\n",
       "        0.84415584, 0.88311688, 0.88311688, 0.8961039 , 0.8961039 ,\n",
       "        0.90909091, 0.90909091, 0.92207792, 0.92207792, 0.95454545,\n",
       "        0.95454545, 0.97402597, 0.97402597, 1.        ]),\n",
       " array([0.        , 0.00684932, 0.08219178, 0.08219178, 0.0890411 ,\n",
       "        0.0890411 , 0.13013699, 0.13013699, 0.19178082, 0.19178082,\n",
       "        0.20547945, 0.20547945, 0.3630137 , 0.3630137 , 0.39041096,\n",
       "        0.39041096, 0.42465753, 0.42465753, 0.45205479, 0.45205479,\n",
       "        0.47260274, 0.47260274, 0.48630137, 0.48630137, 0.52739726,\n",
       "        0.52739726, 0.54794521, 0.54794521, 0.57534247, 0.57534247,\n",
       "        0.58219178, 0.58219178, 0.5890411 , 0.5890411 , 0.60958904,\n",
       "        0.60958904, 0.62328767, 0.62328767, 0.63013699, 0.63013699,\n",
       "        0.65068493, 0.65068493, 0.65753425, 0.65753425, 0.67123288,\n",
       "        0.67123288, 0.67808219, 0.67808219, 0.68493151, 0.68493151,\n",
       "        0.69178082, 0.69178082, 0.71232877, 0.71232877, 0.71917808,\n",
       "        0.71917808, 0.7260274 , 0.7260274 , 0.73287671, 0.73287671,\n",
       "        0.75342466, 0.75342466, 0.76712329, 0.76712329, 0.78082192,\n",
       "        0.78082192, 0.79452055, 0.79452055, 0.80136986, 0.80136986,\n",
       "        0.80821918, 0.80821918, 0.81506849, 0.81506849, 0.82191781,\n",
       "        0.82191781, 0.82876712, 0.82876712, 0.83561644, 0.83561644,\n",
       "        0.84246575, 0.84246575, 0.85616438, 0.85616438, 0.8630137 ,\n",
       "        0.8630137 , 0.86986301, 0.86986301, 0.88356164, 0.88356164,\n",
       "        0.89726027, 0.89726027, 0.9109589 , 0.9109589 , 0.91780822,\n",
       "        0.91780822, 0.92465753, 0.92465753, 0.94520548, 0.94520548,\n",
       "        0.95205479, 0.95205479, 0.95890411, 0.95890411, 0.97260274,\n",
       "        0.97260274, 0.97945205, 0.97945205, 0.98630137, 0.98630137,\n",
       "        0.99315068, 0.99315068, 1.        , 1.        ]),\n",
       " array([       inf, 0.95804223, 0.89073332, 0.885507  , 0.88447205,\n",
       "        0.88235839, 0.86882542, 0.86081365, 0.83842647, 0.83694029,\n",
       "        0.83490739, 0.83469527, 0.76637822, 0.76287453, 0.74255145,\n",
       "        0.73176214, 0.71069881, 0.70204964, 0.69980905, 0.69814335,\n",
       "        0.67910954, 0.67815144, 0.67662855, 0.67460063, 0.66924068,\n",
       "        0.6666275 , 0.65848111, 0.65233642, 0.6320246 , 0.63171087,\n",
       "        0.61427484, 0.61025765, 0.60879461, 0.59868235, 0.59038712,\n",
       "        0.58461669, 0.57882824, 0.57648784, 0.57178895, 0.5677484 ,\n",
       "        0.55660391, 0.5508679 , 0.54664001, 0.53459864, 0.53231921,\n",
       "        0.52168181, 0.5210001 , 0.51743757, 0.51735964, 0.50990492,\n",
       "        0.50655023, 0.50377951, 0.4984691 , 0.48701436, 0.48643272,\n",
       "        0.48426383, 0.47972052, 0.47560284, 0.4754828 , 0.47476099,\n",
       "        0.47265544, 0.4631421 , 0.45938562, 0.45826765, 0.45716224,\n",
       "        0.45706508, 0.44973389, 0.4495343 , 0.44804304, 0.43914651,\n",
       "        0.43761673, 0.41919474, 0.41784842, 0.40533658, 0.40356917,\n",
       "        0.40284706, 0.40034509, 0.39555403, 0.39539615, 0.39013434,\n",
       "        0.38861079, 0.38585568, 0.38397843, 0.36972888, 0.36175256,\n",
       "        0.35906176, 0.35769479, 0.33995064, 0.33241736, 0.32337291,\n",
       "        0.31747004, 0.31597798, 0.31285856, 0.30673424, 0.30086953,\n",
       "        0.28010755, 0.27519348, 0.26944111, 0.26473359, 0.26170817,\n",
       "        0.24230934, 0.21830892, 0.21340949, 0.2006629 , 0.19041657,\n",
       "        0.17500788, 0.16360084, 0.14783813, 0.14668176, 0.11043211,\n",
       "        0.10889332, 0.1047365 , 0.09820967, 0.02488509]))"
      ]
     },
     "execution_count": 15,
     "metadata": {},
     "output_type": "execute_result"
    }
   ],
   "source": [
    "fpr, tpr, threshold"
   ]
  },
  {
   "cell_type": "code",
   "execution_count": 16,
   "id": "f9a992cf-0437-47d2-8602-9cc129c57572",
   "metadata": {},
   "outputs": [],
   "source": [
    "auc_score = roc_auc_score(y_te, y_prob)"
   ]
  },
  {
   "cell_type": "code",
   "execution_count": 17,
   "id": "d2f03c46-7408-4157-abfd-39aaba81fa73",
   "metadata": {},
   "outputs": [
    {
     "data": {
      "text/plain": [
       "0.7594289272371464"
      ]
     },
     "execution_count": 17,
     "metadata": {},
     "output_type": "execute_result"
    }
   ],
   "source": [
    "auc_score"
   ]
  },
  {
   "cell_type": "code",
   "execution_count": 40,
   "id": "85b393d6-e317-4788-be60-cc14d1e11849",
   "metadata": {
    "scrolled": true
   },
   "outputs": [
    {
     "data": {
      "image/png": "[encoded data removed]",
      "text/plain": [
       "<Figure size 800x500 with 1 Axes>"
      ]
     },
     "metadata": {},
     "output_type": "display_data"
    }
   ],
   "source": [
    "plt.figure(figsize=(8, 5))\n",
    "plt.plot(fpr, tpr, label=f\"AUC Score {np.round(auc_score, decimals=4)*100}%\")\n",
    "plt.plot([0, 1], [0, 1])\n",
    "plt.title(\"ROC-AUC\")\n",
    "plt.xlabel(\"FPR - False Positive Rate\")\n",
    "plt.ylabel(\"TPR - True Positive Rate\")\n",
    "plt.legend()\n",
    "plt.show()"
   ]
  },
  {
   "cell_type": "code",
   "execution_count": 28,
   "id": "3fc8a22a-bbd4-4ffe-a868-8ed127071f52",
   "metadata": {
    "scrolled": true
   },
   "outputs": [
    {
     "data": {
      "text/plain": [
       "array([0.83490739, 0.74255145, 0.35746246, 0.47560284, 0.67460063,\n",
       "       0.45862641, 0.63623708, 0.43914651, 0.66924068, 0.12251359,\n",
       "       0.10889332, 0.79344295, 0.94728529, 0.85896657, 0.60571785,\n",
       "       0.19115754, 0.32763517, 0.45938562, 0.48643272, 0.6320246 ,\n",
       "       0.47648069, 0.4112087 , 0.40356917, 0.23344295, 0.85232286,\n",
       "       0.4855866 , 0.58107905, 0.4631421 , 0.47370131, 0.5210001 ,\n",
       "       0.43500678, 0.33612569, 0.35019161, 0.42303749, 0.3599488 ,\n",
       "       0.70186719, 0.80397933, 0.67298696, 0.41094074, 0.65233642,\n",
       "       0.84743075, 0.4109977 , 0.83400452, 0.10611789, 0.70021724,\n",
       "       0.85867508, 0.40533658, 0.79737246, 0.47476099, 0.83928673,\n",
       "       0.34672443, 0.72626492, 0.09820967, 0.28433349, 0.31285856,\n",
       "       0.21830892, 0.52334393, 0.87132221, 0.81196135, 0.46275161,\n",
       "       0.80746909, 0.32337291, 0.23950073, 0.5423232 , 0.2389893 ,\n",
       "       0.86081365, 0.33241736, 0.885507  , 0.5677484 , 0.86882542,\n",
       "       0.5005354 , 0.47597481, 0.7736834 , 0.65848111, 0.13179014,\n",
       "       0.22517999, 0.43918449, 0.5508679 , 0.50443381, 0.36175256,\n",
       "       0.45716224, 0.39555403, 0.10755363, 0.76762772, 0.17500788,\n",
       "       0.26830647, 0.53459864, 0.44378071, 0.44089936, 0.44804304,\n",
       "       0.41919474, 0.69980905, 0.58461669, 0.59619307, 0.57648784,\n",
       "       0.2006629 , 0.6666275 , 0.40284706, 0.80822595, 0.17806832,\n",
       "       0.44973389, 0.42221379, 0.38397843, 0.43761673, 0.76637822,\n",
       "       0.83469527, 0.83868674, 0.45826765, 0.85551133, 0.52510457,\n",
       "       0.30086953, 0.87955343, 0.75402564, 0.42923343, 0.41625889,\n",
       "       0.0506931 , 0.66477878, 0.47006746, 0.4430722 , 0.26170817,\n",
       "       0.57882824, 0.35769479, 0.77174606, 0.31290208, 0.5979353 ,\n",
       "       0.54439319, 0.60879461, 0.51735964, 0.53438471, 0.3226765 ,\n",
       "       0.89863896, 0.67758265, 0.87523003, 0.40898413, 0.41073304,\n",
       "       0.53052066, 0.38209887, 0.50655023, 0.0790157 , 0.2187363 ,\n",
       "       0.4495343 , 0.53740127, 0.7714207 , 0.70022957, 0.59868235,\n",
       "       0.67330531, 0.90363175, 0.50990492, 0.51011963, 0.1110449 ,\n",
       "       0.21340949, 0.43761502, 0.63885257, 0.83694029, 0.39539615,\n",
       "       0.44053759, 0.30673424, 0.78322672, 0.71565143, 0.35906176,\n",
       "       0.34065564, 0.61025765, 0.14668176, 0.50992376, 0.88447205,\n",
       "       0.45706508, 0.92714543, 0.81409183, 0.73176214, 0.54059185,\n",
       "       0.16360084, 0.66252098, 0.93568085, 0.38861079, 0.45768205,\n",
       "       0.56536862, 0.20584972, 0.47227841, 0.93944723, 0.34892344,\n",
       "       0.47972052, 0.51822075, 0.83577726, 0.74997351, 0.67910954,\n",
       "       0.39845325, 0.71615316, 0.67815144, 0.27519348, 0.49602496,\n",
       "       0.37942944, 0.59038712, 0.63171087, 0.87467997, 0.34279596,\n",
       "       0.30937323, 0.26821166, 0.65365658, 0.7688118 , 0.68559784,\n",
       "       0.54622418, 0.31747004, 0.34886799, 0.88235839, 0.52773039,\n",
       "       0.78149741, 0.5239027 , 0.38415538, 0.9167673 , 0.26944111,\n",
       "       0.4031828 , 0.54664001, 0.48701436, 0.32938491, 0.85756111,\n",
       "       0.28010755, 0.53594008, 0.71069881, 0.14783813, 0.56672478,\n",
       "       0.31038646, 0.47150475, 0.75328239, 0.64595506, 0.67186758,\n",
       "       0.26473359, 0.52703119, 0.11043211, 0.80080234, 0.19041657,\n",
       "       0.91926543, 0.38585568, 0.14399049, 0.47265544, 0.41087035,\n",
       "       0.50377951, 0.53231921, 0.57178895, 0.41784842, 0.39208222,\n",
       "       0.89348248, 0.67662855, 0.81516202, 0.31597798, 0.54356032,\n",
       "       0.44085655, 0.8151597 , 0.69814335, 0.15792999, 0.33995064,\n",
       "       0.46870194, 0.73549765, 0.48860691, 0.83842647, 0.78417099,\n",
       "       0.48426383, 0.24230934, 0.58858427, 0.68951364, 0.1047365 ,\n",
       "       0.87437037, 0.41122548, 0.8201598 , 0.02488509, 0.47324867,\n",
       "       0.3611282 , 0.41576982, 0.82257091, 0.51743757, 0.52168181,\n",
       "       0.39452512, 0.95804223, 0.60276744, 0.76287453, 0.55660391,\n",
       "       0.4754828 , 0.35459771, 0.61427484, 0.66940778, 0.89073332,\n",
       "       0.76436559, 0.61401011, 0.48757136, 0.37675344, 0.32765117,\n",
       "       0.39013434, 0.44492649, 0.7167172 , 0.95110255, 0.70204964,\n",
       "       0.40034509, 0.50149739, 0.67371747, 0.4984691 , 0.09780738,\n",
       "       0.44035913, 0.36972888, 0.77546525, 0.42401746, 0.451496  ])"
      ]
     },
     "execution_count": 28,
     "metadata": {},
     "output_type": "execute_result"
    }
   ],
   "source": [
    "y_prob"
   ]
  },
  {
   "cell_type": "code",
   "execution_count": 46,
   "id": "e698dfdb-2c02-43a6-a12a-5ed3f317ca1a",
   "metadata": {},
   "outputs": [],
   "source": [
    "y_pr_655_threshold = np.array([0 if i < 0.655 else 1 for i in y_prob])"
   ]
  },
  {
   "cell_type": "code",
   "execution_count": 47,
   "id": "84b867d7-6af2-4f25-9260-8f9931b0b6fa",
   "metadata": {
    "scrolled": true
   },
   "outputs": [
    {
     "data": {
      "text/plain": [
       "array([1, 1, 0, 0, 1, 0, 0, 0, 1, 0, 0, 1, 1, 1, 0, 0, 0, 0, 0, 0, 0, 0,\n",
       "       0, 0, 1, 0, 0, 0, 0, 0, 0, 0, 0, 0, 0, 1, 1, 1, 0, 0, 1, 0, 1, 0,\n",
       "       1, 1, 0, 1, 0, 1, 0, 1, 0, 0, 0, 0, 0, 1, 1, 0, 1, 0, 0, 0, 0, 1,\n",
       "       0, 1, 0, 1, 0, 0, 1, 1, 0, 0, 0, 0, 0, 0, 0, 0, 0, 1, 0, 0, 0, 0,\n",
       "       0, 0, 0, 1, 0, 0, 0, 0, 1, 0, 1, 0, 0, 0, 0, 0, 1, 1, 1, 0, 1, 0,\n",
       "       0, 1, 1, 0, 0, 0, 1, 0, 0, 0, 0, 0, 1, 0, 0, 0, 0, 0, 0, 0, 1, 1,\n",
       "       1, 0, 0, 0, 0, 0, 0, 0, 0, 0, 1, 1, 0, 1, 1, 0, 0, 0, 0, 0, 0, 1,\n",
       "       0, 0, 0, 1, 1, 0, 0, 0, 0, 0, 1, 0, 1, 1, 1, 0, 0, 1, 1, 0, 0, 0,\n",
       "       0, 0, 1, 0, 0, 0, 1, 1, 1, 0, 1, 1, 0, 0, 0, 0, 0, 1, 0, 0, 0, 0,\n",
       "       1, 1, 0, 0, 0, 1, 0, 1, 0, 0, 1, 0, 0, 0, 0, 0, 1, 0, 0, 1, 0, 0,\n",
       "       0, 0, 1, 0, 1, 0, 0, 0, 1, 0, 1, 0, 0, 0, 0, 0, 0, 0, 0, 0, 1, 1,\n",
       "       1, 0, 0, 0, 1, 1, 0, 0, 0, 1, 0, 1, 1, 0, 0, 0, 1, 0, 1, 0, 1, 0,\n",
       "       0, 0, 0, 1, 0, 0, 0, 1, 0, 1, 0, 0, 0, 0, 1, 1, 1, 0, 0, 0, 0, 0,\n",
       "       0, 1, 1, 1, 0, 0, 1, 0, 0, 0, 0, 1, 0, 0])"
      ]
     },
     "execution_count": 47,
     "metadata": {},
     "output_type": "execute_result"
    }
   ],
   "source": [
    "y_pr_655_threshold"
   ]
  },
  {
   "cell_type": "code",
   "execution_count": 48,
   "id": "f3f32044-cc85-451e-8604-e64180bfaf0a",
   "metadata": {},
   "outputs": [
    {
     "data": {
      "text/plain": [
       "0.7333333333333333"
      ]
     },
     "execution_count": 48,
     "metadata": {},
     "output_type": "execute_result"
    }
   ],
   "source": [
    "accuracy_score(y_te, y_pr_655_threshold)"
   ]
  },
  {
   "cell_type": "code",
   "execution_count": 49,
   "id": "c20a78ca-6a79-4b22-9f5c-0864d0b69f4d",
   "metadata": {
    "scrolled": true
   },
   "outputs": [
    {
     "name": "stdout",
     "output_type": "stream",
     "text": [
      "              precision    recall  f1-score   support\n",
      "\n",
      "           0       0.68      0.91      0.78       154\n",
      "           1       0.85      0.55      0.67       146\n",
      "\n",
      "    accuracy                           0.73       300\n",
      "   macro avg       0.77      0.73      0.72       300\n",
      "weighted avg       0.76      0.73      0.72       300\n",
      "\n"
     ]
    }
   ],
   "source": [
    "print(classification_report(y_te, y_pr_655_threshold))"
   ]
  },
  {
   "cell_type": "code",
   "execution_count": 50,
   "id": "e9ae4c3b-fcac-4a2c-821f-303859c8e9c4",
   "metadata": {},
   "outputs": [
    {
     "data": {
      "text/plain": [
       "array([[140,  14],\n",
       "       [ 66,  80]], dtype=int64)"
      ]
     },
     "execution_count": 50,
     "metadata": {},
     "output_type": "execute_result"
    }
   ],
   "source": [
    "confusion_matrix(y_te, y_pr_67_threshold)"
   ]
  },
  {
   "cell_type": "code",
   "execution_count": null,
   "id": "3ff43913-c98e-469b-8c56-4422c8b417ef",
   "metadata": {},
   "outputs": [],
   "source": []
  },
  {
   "cell_type": "code",
   "execution_count": 52,
   "id": "a7cc5197-6b14-4eab-bc12-0b5c6278d7a8",
   "metadata": {},
   "outputs": [
    {
     "data": {
      "text/plain": [
       "0.69"
      ]
     },
     "execution_count": 52,
     "metadata": {},
     "output_type": "execute_result"
    }
   ],
   "source": [
    "training_score = model.score(X_tr, y_tr)\n",
    "training_score"
   ]
  },
  {
   "cell_type": "code",
   "execution_count": 54,
   "id": "583b54f5-bf0a-4e27-88f5-56b2a9174fec",
   "metadata": {},
   "outputs": [
    {
     "data": {
      "text/plain": [
       "0.6933333333333334"
      ]
     },
     "execution_count": 54,
     "metadata": {},
     "output_type": "execute_result"
    }
   ],
   "source": [
    "testing_score = accuracy_score(y_te, y_pr)\n",
    "testing_score"
   ]
  },
  {
   "cell_type": "code",
   "execution_count": 55,
   "id": "2661af75-79a2-45af-9409-2f694049c9df",
   "metadata": {},
   "outputs": [],
   "source": [
    "## Cross Validation"
   ]
  },
  {
   "cell_type": "code",
   "execution_count": 57,
   "id": "c74e852b-4716-4701-8445-473db5962613",
   "metadata": {},
   "outputs": [],
   "source": [
    "kf = KFold(n_splits=10)"
   ]
  },
  {
   "cell_type": "code",
   "execution_count": 65,
   "id": "296e2d3f-64de-44c8-8a09-1893e87cd5fb",
   "metadata": {
    "scrolled": true
   },
   "outputs": [
    {
     "name": "stderr",
     "output_type": "stream",
     "text": [
      "[Parallel(n_jobs=-1)]: Using backend LokyBackend with 8 concurrent workers.\n",
      "[Parallel(n_jobs=-1)]: Done   6 out of  10 | elapsed:    0.0s remaining:    0.0s\n",
      "[Parallel(n_jobs=-1)]: Done  10 out of  10 | elapsed:    0.0s finished\n"
     ]
    }
   ],
   "source": [
    "cvs = cross_val_score(estimator=LogisticRegression(), X=X_tr, y=y_tr, cv=kf,\n",
    "                     n_jobs=-1, verbose=True, scoring=\"accuracy\")"
   ]
  },
  {
   "cell_type": "code",
   "execution_count": 66,
   "id": "03583905-3ea1-4370-8ff5-5b38166f5ee0",
   "metadata": {
    "scrolled": true
   },
   "outputs": [
    {
     "data": {
      "text/plain": [
       "array([0.71428571, 0.72857143, 0.6       , 0.67142857, 0.58571429,\n",
       "       0.68571429, 0.78571429, 0.6       , 0.77142857, 0.64285714])"
      ]
     },
     "execution_count": 66,
     "metadata": {},
     "output_type": "execute_result"
    }
   ],
   "source": [
    "cvs"
   ]
  },
  {
   "cell_type": "code",
   "execution_count": 67,
   "id": "b98cae75-dc28-471b-ad90-dee7849b2677",
   "metadata": {},
   "outputs": [],
   "source": [
    "cross_validation_score = cvs.mean()"
   ]
  },
  {
   "cell_type": "code",
   "execution_count": 68,
   "id": "c7b6e751-be30-45e0-a6e3-4ad1b4d07c94",
   "metadata": {},
   "outputs": [
    {
     "data": {
      "text/plain": [
       "0.6785714285714286"
      ]
     },
     "execution_count": 68,
     "metadata": {},
     "output_type": "execute_result"
    }
   ],
   "source": [
    "cross_validation_score"
   ]
  },
  {
   "cell_type": "code",
   "execution_count": null,
   "id": "9e946ddb-9a81-4b0e-9014-6112ead3b7c5",
   "metadata": {},
   "outputs": [],
   "source": []
  }
 ],
 "metadata": {
  "kernelspec": {
   "display_name": "Python 3 (ipykernel)",
   "language": "python",
   "name": "python3"
  },
  "language_info": {
   "codemirror_mode": {
    "name": "ipython",
    "version": 3
   },
   "file_extension": ".py",
   "mimetype": "text/x-python",
   "name": "python",
   "nbconvert_exporter": "python",
   "pygments_lexer": "ipython3",
   "version": "3.11.7"
  },
  "widgets": {
   "application/vnd.jupyter.widget-state+json": {
    "state": {},
    "version_major": 2,
    "version_minor": 0
   }
  }
 },
 "nbformat": 4,
 "nbformat_minor": 5
}
