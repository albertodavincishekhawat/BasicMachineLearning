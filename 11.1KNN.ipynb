{
 "cells": [
  {
   "cell_type": "code",
   "execution_count": 40,
   "id": "19d2815e-6249-422f-a73e-978f9a28fb5b",
   "metadata": {},
   "outputs": [],
   "source": [
    "import numpy as np\n",
    "import matplotlib.pyplot as plt\n",
    "import seaborn as sns\n",
    "import pandas as pd\n",
    "\n",
    "from sklearn.datasets import make_blobs"
   ]
  },
  {
   "cell_type": "code",
   "execution_count": 41,
   "id": "c3cb5bd0-a75d-46d3-b75f-4fc89a579f4f",
   "metadata": {},
   "outputs": [],
   "source": [
    "X, y = make_blobs(n_samples=50, n_features=2, centers=[[1, 2], [3, 5]])"
   ]
  },
  {
   "cell_type": "code",
   "execution_count": 42,
   "id": "9589256c-a310-49c5-b3aa-4dda8aff9090",
   "metadata": {
    "scrolled": true
   },
   "outputs": [
    {
     "data": {
      "image/png": "[encoded data removed]",
      "text/plain": [
       "<Figure size 1200x500 with 1 Axes>"
      ]
     },
     "metadata": {},
     "output_type": "display_data"
    }
   ],
   "source": [
    "plt.figure(figsize=(12, 5))\n",
    "plt.scatter(X[y==0, 0], X[y==0, 1], label=\"Class 0\")\n",
    "plt.scatter(X[y==1, 0], X[y==1, 1], label=\"Class 1\")\n",
    "plt.legend()\n",
    "plt.show()"
   ]
  },
  {
   "cell_type": "code",
   "execution_count": 43,
   "id": "b7040dc1-52e5-45d2-a840-a4077e253bd6",
   "metadata": {},
   "outputs": [],
   "source": [
    "df = pd.DataFrame(X, columns=[\"Col1\", \"Col2\"])\n",
    "df[\"Target\"] = y"
   ]
  },
  {
   "cell_type": "code",
   "execution_count": 44,
   "id": "9e291612-1ff0-410f-81e4-950d4e9b81ce",
   "metadata": {
    "scrolled": true
   },
   "outputs": [
    {
     "data": {
      "text/html": [
       "<div>\n",
       "<style scoped>\n",
       "    .dataframe tbody tr th:only-of-type {\n",
       "        vertical-align: middle;\n",
       "    }\n",
       "\n",
       "    .dataframe tbody tr th {\n",
       "        vertical-align: top;\n",
       "    }\n",
       "\n",
       "    .dataframe thead th {\n",
       "        text-align: right;\n",
       "    }\n",
       "</style>\n",
       "<table border=\"1\" class=\"dataframe\">\n",
       "  <thead>\n",
       "    <tr style=\"text-align: right;\">\n",
       "      <th></th>\n",
       "      <th>Col1</th>\n",
       "      <th>Col2</th>\n",
       "      <th>Target</th>\n",
       "    </tr>\n",
       "  </thead>\n",
       "  <tbody>\n",
       "    <tr>\n",
       "      <th>0</th>\n",
       "      <td>0.308967</td>\n",
       "      <td>1.351548</td>\n",
       "      <td>0</td>\n",
       "    </tr>\n",
       "    <tr>\n",
       "      <th>1</th>\n",
       "      <td>0.496958</td>\n",
       "      <td>0.900332</td>\n",
       "      <td>0</td>\n",
       "    </tr>\n",
       "    <tr>\n",
       "      <th>2</th>\n",
       "      <td>3.391222</td>\n",
       "      <td>6.869583</td>\n",
       "      <td>1</td>\n",
       "    </tr>\n",
       "    <tr>\n",
       "      <th>3</th>\n",
       "      <td>1.780991</td>\n",
       "      <td>6.879251</td>\n",
       "      <td>1</td>\n",
       "    </tr>\n",
       "    <tr>\n",
       "      <th>4</th>\n",
       "      <td>0.872948</td>\n",
       "      <td>3.901969</td>\n",
       "      <td>0</td>\n",
       "    </tr>\n",
       "  </tbody>\n",
       "</table>\n",
       "</div>"
      ],
      "text/plain": [
       "       Col1      Col2  Target\n",
       "0  0.308967  1.351548       0\n",
       "1  0.496958  0.900332       0\n",
       "2  3.391222  6.869583       1\n",
       "3  1.780991  6.879251       1\n",
       "4  0.872948  3.901969       0"
      ]
     },
     "execution_count": 44,
     "metadata": {},
     "output_type": "execute_result"
    }
   ],
   "source": [
    "df.head()"
   ]
  },
  {
   "cell_type": "code",
   "execution_count": 45,
   "id": "b942f095-1b2c-4f6f-93d7-35a325181cdb",
   "metadata": {},
   "outputs": [],
   "source": [
    "new_pt = np.random.rand(2)*2"
   ]
  },
  {
   "cell_type": "code",
   "execution_count": 46,
   "id": "f32e78c2-64d5-4b57-94a2-294f479a5c76",
   "metadata": {},
   "outputs": [
    {
     "data": {
      "text/plain": [
       "array([0.81209817, 0.78329769])"
      ]
     },
     "execution_count": 46,
     "metadata": {},
     "output_type": "execute_result"
    }
   ],
   "source": [
    "new_pt"
   ]
  },
  {
   "cell_type": "code",
   "execution_count": 47,
   "id": "3a716b3d-f86f-46e4-8c52-91776a7dcfc6",
   "metadata": {},
   "outputs": [],
   "source": [
    "dist = np.sqrt(np.square(df[\"Col1\"]-new_pt[0])+np.square(df[\"Col2\"]-new_pt[1]))"
   ]
  },
  {
   "cell_type": "code",
   "execution_count": 48,
   "id": "7910534f-c206-4297-a44e-d4385225f774",
   "metadata": {
    "scrolled": true
   },
   "outputs": [
    {
     "data": {
      "text/plain": [
       "0     0.758979\n",
       "1     0.336170\n",
       "2     6.610201\n",
       "3     6.172471\n",
       "4     3.119265\n",
       "5     5.767962\n",
       "6     1.645060\n",
       "7     0.799868\n",
       "8     4.545560\n",
       "9     5.044544\n",
       "10    3.498628\n",
       "11    4.988736\n",
       "12    5.243122\n",
       "13    2.616868\n",
       "14    4.868947\n",
       "15    2.361770\n",
       "16    1.560963\n",
       "17    2.937840\n",
       "18    1.958297\n",
       "19    1.572814\n",
       "20    3.544164\n",
       "21    5.369219\n",
       "22    4.067026\n",
       "23    3.759026\n",
       "24    2.418858\n",
       "25    1.310553\n",
       "26    6.307288\n",
       "27    3.452255\n",
       "28    4.609494\n",
       "29    3.202537\n",
       "30    6.111841\n",
       "31    0.453201\n",
       "32    1.714458\n",
       "33    4.988994\n",
       "34    6.689330\n",
       "35    6.312462\n",
       "36    1.181835\n",
       "37    4.391164\n",
       "38    3.749658\n",
       "39    1.556988\n",
       "40    1.205432\n",
       "41    5.874867\n",
       "42    5.229906\n",
       "43    5.236571\n",
       "44    2.551494\n",
       "45    6.430020\n",
       "46    1.385278\n",
       "47    0.565881\n",
       "48    2.282109\n",
       "49    2.153160\n",
       "dtype: float64"
      ]
     },
     "execution_count": 48,
     "metadata": {},
     "output_type": "execute_result"
    }
   ],
   "source": [
    "dist"
   ]
  },
  {
   "cell_type": "code",
   "execution_count": 49,
   "id": "5cc08dd3-5774-4bf3-a221-4911ba87cd7d",
   "metadata": {},
   "outputs": [],
   "source": [
    "df[\"distance\"] = dist"
   ]
  },
  {
   "cell_type": "code",
   "execution_count": 50,
   "id": "8909c190-9109-43ed-a41a-8050b1bf4f65",
   "metadata": {
    "scrolled": true
   },
   "outputs": [
    {
     "data": {
      "text/html": [
       "<div>\n",
       "<style scoped>\n",
       "    .dataframe tbody tr th:only-of-type {\n",
       "        vertical-align: middle;\n",
       "    }\n",
       "\n",
       "    .dataframe tbody tr th {\n",
       "        vertical-align: top;\n",
       "    }\n",
       "\n",
       "    .dataframe thead th {\n",
       "        text-align: right;\n",
       "    }\n",
       "</style>\n",
       "<table border=\"1\" class=\"dataframe\">\n",
       "  <thead>\n",
       "    <tr style=\"text-align: right;\">\n",
       "      <th></th>\n",
       "      <th>Col1</th>\n",
       "      <th>Col2</th>\n",
       "      <th>Target</th>\n",
       "      <th>distance</th>\n",
       "    </tr>\n",
       "  </thead>\n",
       "  <tbody>\n",
       "    <tr>\n",
       "      <th>1</th>\n",
       "      <td>0.496958</td>\n",
       "      <td>0.900332</td>\n",
       "      <td>0</td>\n",
       "      <td>0.336170</td>\n",
       "    </tr>\n",
       "    <tr>\n",
       "      <th>31</th>\n",
       "      <td>0.374208</td>\n",
       "      <td>0.900106</td>\n",
       "      <td>0</td>\n",
       "      <td>0.453201</td>\n",
       "    </tr>\n",
       "    <tr>\n",
       "      <th>47</th>\n",
       "      <td>0.438790</td>\n",
       "      <td>1.208577</td>\n",
       "      <td>0</td>\n",
       "      <td>0.565881</td>\n",
       "    </tr>\n",
       "    <tr>\n",
       "      <th>0</th>\n",
       "      <td>0.308967</td>\n",
       "      <td>1.351548</td>\n",
       "      <td>0</td>\n",
       "      <td>0.758979</td>\n",
       "    </tr>\n",
       "    <tr>\n",
       "      <th>7</th>\n",
       "      <td>0.645243</td>\n",
       "      <td>1.565568</td>\n",
       "      <td>0</td>\n",
       "      <td>0.799868</td>\n",
       "    </tr>\n",
       "  </tbody>\n",
       "</table>\n",
       "</div>"
      ],
      "text/plain": [
       "        Col1      Col2  Target  distance\n",
       "1   0.496958  0.900332       0  0.336170\n",
       "31  0.374208  0.900106       0  0.453201\n",
       "47  0.438790  1.208577       0  0.565881\n",
       "0   0.308967  1.351548       0  0.758979\n",
       "7   0.645243  1.565568       0  0.799868"
      ]
     },
     "execution_count": 50,
     "metadata": {},
     "output_type": "execute_result"
    }
   ],
   "source": [
    "df.sort_values(\"distance\").head()"
   ]
  },
  {
   "cell_type": "code",
   "execution_count": 51,
   "id": "6c2694d6-148a-447d-989a-68093d5d5078",
   "metadata": {
    "scrolled": true
   },
   "outputs": [
    {
     "data": {
      "image/png": "[encoded data removed]",
      "text/plain": [
       "<Figure size 1200x500 with 1 Axes>"
      ]
     },
     "metadata": {},
     "output_type": "display_data"
    }
   ],
   "source": [
    "plt.figure(figsize=(12, 5))\n",
    "plt.scatter(X[y==0, 0], X[y==0, 1], label=\"Class 0\")\n",
    "plt.scatter(X[y==1, 0], X[y==1, 1], label=\"Class 1\")\n",
    "plt.scatter(new_pt[0], new_pt[1], label=\"New Point\")\n",
    "plt.legend()\n",
    "plt.show()"
   ]
  },
  {
   "cell_type": "code",
   "execution_count": 52,
   "id": "b4da29ca-d903-45c8-aede-5786beee439d",
   "metadata": {},
   "outputs": [],
   "source": [
    "def KNN_classifier(dataframe, new_point, k):\n",
    "    dist = np.sqrt(np.square(dataframe[\"Col1\"]-new_point[0])+np.square(dataframe[\"Col2\"]-new_point[1]))\n",
    "    df[\"distance\"] = dist\n",
    "    return df.sort_values(\"distance\").head(k)"
   ]
  },
  {
   "cell_type": "code",
   "execution_count": 53,
   "id": "826c5b96-fa3a-49de-8151-1ca06f7ab399",
   "metadata": {
    "scrolled": true
   },
   "outputs": [
    {
     "data": {
      "text/html": [
       "<div>\n",
       "<style scoped>\n",
       "    .dataframe tbody tr th:only-of-type {\n",
       "        vertical-align: middle;\n",
       "    }\n",
       "\n",
       "    .dataframe tbody tr th {\n",
       "        vertical-align: top;\n",
       "    }\n",
       "\n",
       "    .dataframe thead th {\n",
       "        text-align: right;\n",
       "    }\n",
       "</style>\n",
       "<table border=\"1\" class=\"dataframe\">\n",
       "  <thead>\n",
       "    <tr style=\"text-align: right;\">\n",
       "      <th></th>\n",
       "      <th>Col1</th>\n",
       "      <th>Col2</th>\n",
       "      <th>Target</th>\n",
       "      <th>distance</th>\n",
       "    </tr>\n",
       "  </thead>\n",
       "  <tbody>\n",
       "    <tr>\n",
       "      <th>46</th>\n",
       "      <td>0.925094</td>\n",
       "      <td>2.163959</td>\n",
       "      <td>0</td>\n",
       "      <td>0.418107</td>\n",
       "    </tr>\n",
       "    <tr>\n",
       "      <th>16</th>\n",
       "      <td>1.791662</td>\n",
       "      <td>1.998642</td>\n",
       "      <td>0</td>\n",
       "      <td>0.467393</td>\n",
       "    </tr>\n",
       "    <tr>\n",
       "      <th>49</th>\n",
       "      <td>1.349615</td>\n",
       "      <td>2.868286</td>\n",
       "      <td>0</td>\n",
       "      <td>0.744923</td>\n",
       "    </tr>\n",
       "    <tr>\n",
       "      <th>36</th>\n",
       "      <td>0.483646</td>\n",
       "      <td>1.918575</td>\n",
       "      <td>0</td>\n",
       "      <td>0.881707</td>\n",
       "    </tr>\n",
       "    <tr>\n",
       "      <th>7</th>\n",
       "      <td>0.645243</td>\n",
       "      <td>1.565568</td>\n",
       "      <td>0</td>\n",
       "      <td>0.891955</td>\n",
       "    </tr>\n",
       "  </tbody>\n",
       "</table>\n",
       "</div>"
      ],
      "text/plain": [
       "        Col1      Col2  Target  distance\n",
       "46  0.925094  2.163959       0  0.418107\n",
       "16  1.791662  1.998642       0  0.467393\n",
       "49  1.349615  2.868286       0  0.744923\n",
       "36  0.483646  1.918575       0  0.881707\n",
       "7   0.645243  1.565568       0  0.891955"
      ]
     },
     "execution_count": 53,
     "metadata": {},
     "output_type": "execute_result"
    }
   ],
   "source": [
    "KNN_classifier(df, np.array([1.34123, 2.12341]), 5)"
   ]
  },
  {
   "cell_type": "code",
   "execution_count": 54,
   "id": "cf879e48-d69a-450f-9342-65de8ebd2ed4",
   "metadata": {
    "scrolled": true
   },
   "outputs": [
    {
     "data": {
      "text/html": [
       "<div>\n",
       "<style scoped>\n",
       "    .dataframe tbody tr th:only-of-type {\n",
       "        vertical-align: middle;\n",
       "    }\n",
       "\n",
       "    .dataframe tbody tr th {\n",
       "        vertical-align: top;\n",
       "    }\n",
       "\n",
       "    .dataframe thead th {\n",
       "        text-align: right;\n",
       "    }\n",
       "</style>\n",
       "<table border=\"1\" class=\"dataframe\">\n",
       "  <thead>\n",
       "    <tr style=\"text-align: right;\">\n",
       "      <th></th>\n",
       "      <th>Col1</th>\n",
       "      <th>Col2</th>\n",
       "      <th>Target</th>\n",
       "      <th>distance</th>\n",
       "    </tr>\n",
       "  </thead>\n",
       "  <tbody>\n",
       "    <tr>\n",
       "      <th>44</th>\n",
       "      <td>2.022101</td>\n",
       "      <td>3.029631</td>\n",
       "      <td>0</td>\n",
       "      <td>0.207275</td>\n",
       "    </tr>\n",
       "    <tr>\n",
       "      <th>49</th>\n",
       "      <td>1.349615</td>\n",
       "      <td>2.868286</td>\n",
       "      <td>0</td>\n",
       "      <td>0.653158</td>\n",
       "    </tr>\n",
       "    <tr>\n",
       "      <th>16</th>\n",
       "      <td>1.791662</td>\n",
       "      <td>1.998642</td>\n",
       "      <td>0</td>\n",
       "      <td>0.850976</td>\n",
       "    </tr>\n",
       "    <tr>\n",
       "      <th>29</th>\n",
       "      <td>2.615246</td>\n",
       "      <td>3.429975</td>\n",
       "      <td>1</td>\n",
       "      <td>0.863097</td>\n",
       "    </tr>\n",
       "    <tr>\n",
       "      <th>24</th>\n",
       "      <td>1.153625</td>\n",
       "      <td>3.177923</td>\n",
       "      <td>0</td>\n",
       "      <td>0.918756</td>\n",
       "    </tr>\n",
       "  </tbody>\n",
       "</table>\n",
       "</div>"
      ],
      "text/plain": [
       "        Col1      Col2  Target  distance\n",
       "44  2.022101  3.029631       0  0.207275\n",
       "49  1.349615  2.868286       0  0.653158\n",
       "16  1.791662  1.998642       0  0.850976\n",
       "29  2.615246  3.429975       1  0.863097\n",
       "24  1.153625  3.177923       0  0.918756"
      ]
     },
     "execution_count": 54,
     "metadata": {},
     "output_type": "execute_result"
    }
   ],
   "source": [
    "KNN_classifier(df, np.array([2.00123, 2.82341]), 5)"
   ]
  },
  {
   "cell_type": "code",
   "execution_count": 55,
   "id": "573f64c6-d71f-4cc9-9fcd-6753fab75b38",
   "metadata": {
    "scrolled": true
   },
   "outputs": [
    {
     "data": {
      "image/png": "[encoded data removed]",
      "text/plain": [
       "<Figure size 1200x500 with 1 Axes>"
      ]
     },
     "metadata": {},
     "output_type": "display_data"
    }
   ],
   "source": [
    "new_pt = np.array([2.00123, 2.82341])\n",
    "plt.figure(figsize=(12, 5))\n",
    "plt.scatter(X[y==0, 0], X[y==0, 1], label=\"Class 0\")\n",
    "plt.scatter(X[y==1, 0], X[y==1, 1], label=\"Class 1\")\n",
    "plt.scatter(new_pt[0], new_pt[1], label=\"New Point\")\n",
    "plt.legend()\n",
    "plt.show()"
   ]
  },
  {
   "cell_type": "code",
   "execution_count": null,
   "id": "546ad29d-362c-4bb0-8bec-64e03039053a",
   "metadata": {},
   "outputs": [],
   "source": []
  },
  {
   "cell_type": "code",
   "execution_count": null,
   "id": "11b681cb-0333-4a59-827e-413ead820499",
   "metadata": {},
   "outputs": [],
   "source": []
  }
 ],
 "metadata": {
  "kernelspec": {
   "display_name": "Python 3 (ipykernel)",
   "language": "python",
   "name": "python3"
  },
  "language_info": {
   "codemirror_mode": {
    "name": "ipython",
    "version": 3
   },
   "file_extension": ".py",
   "mimetype": "text/x-python",
   "name": "python",
   "nbconvert_exporter": "python",
   "pygments_lexer": "ipython3",
   "version": "3.11.7"
  },
  "widgets": {
   "application/vnd.jupyter.widget-state+json": {
    "state": {},
    "version_major": 2,
    "version_minor": 0
   }
  }
 },
 "nbformat": 4,
 "nbformat_minor": 5
}
